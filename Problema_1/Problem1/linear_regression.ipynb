{
 "cells": [
  {
   "cell_type": "markdown",
   "metadata": {
    "colab_type": "text",
    "id": "K_0eGAHdw6Q4"
   },
   "source": [
    "# Linear regression"
   ]
  },
  {
   "cell_type": "markdown",
   "metadata": {
    "colab_type": "text",
    "id": "xJoEmKBPw6Q6"
   },
   "source": [
    "You will implement linear regression with multiple variables to predict the prices of houses. \n",
    "\n",
    "Suppose you are selling your house and you want to know what a good market price would be. One way to do this is to first collect information on recent houses sold and make a model of housing\n",
    "prices.\n",
    "\n",
    "The file `ex1.csv` contains a training set of housing prices in Portland, Oregon. The first column is the size of the house (in square feet), the second column is the number of bedrooms, and the third column is the price of the house."
   ]
  },
  {
   "cell_type": "code",
   "execution_count": 1,
   "metadata": {
    "colab": {},
    "colab_type": "code",
    "id": "o5DTAL95w6Rp"
   },
   "outputs": [],
   "source": [
    "import matplotlib.pyplot as plt #for graphics\n",
    "import numpy as np\n",
    "import pandas as pd"
   ]
  },
  {
   "cell_type": "markdown",
   "metadata": {
    "colab_type": "text",
    "id": "wRTHs7Jvw6Rv"
   },
   "source": [
    "**Exercise 1.** Load the file and explore it, give preliminary conclusions."
   ]
  },
  {
   "cell_type": "code",
   "execution_count": 2,
   "metadata": {
    "colab": {},
    "colab_type": "code",
    "id": "CdoUcDn2w6Rw"
   },
   "outputs": [
    {
     "data": {
      "text/html": [
       "<div>\n",
       "<style scoped>\n",
       "    .dataframe tbody tr th:only-of-type {\n",
       "        vertical-align: middle;\n",
       "    }\n",
       "\n",
       "    .dataframe tbody tr th {\n",
       "        vertical-align: top;\n",
       "    }\n",
       "\n",
       "    .dataframe thead th {\n",
       "        text-align: right;\n",
       "    }\n",
       "</style>\n",
       "<table border=\"1\" class=\"dataframe\">\n",
       "  <thead>\n",
       "    <tr style=\"text-align: right;\">\n",
       "      <th></th>\n",
       "      <th>area</th>\n",
       "      <th>bedrooms</th>\n",
       "      <th>price</th>\n",
       "    </tr>\n",
       "  </thead>\n",
       "  <tbody>\n",
       "    <tr>\n",
       "      <td>0</td>\n",
       "      <td>2104</td>\n",
       "      <td>3</td>\n",
       "      <td>399900</td>\n",
       "    </tr>\n",
       "    <tr>\n",
       "      <td>1</td>\n",
       "      <td>1600</td>\n",
       "      <td>3</td>\n",
       "      <td>329900</td>\n",
       "    </tr>\n",
       "    <tr>\n",
       "      <td>2</td>\n",
       "      <td>2400</td>\n",
       "      <td>3</td>\n",
       "      <td>369000</td>\n",
       "    </tr>\n",
       "    <tr>\n",
       "      <td>3</td>\n",
       "      <td>1416</td>\n",
       "      <td>2</td>\n",
       "      <td>232000</td>\n",
       "    </tr>\n",
       "  </tbody>\n",
       "</table>\n",
       "</div>"
      ],
      "text/plain": [
       "   area  bedrooms   price\n",
       "0  2104         3  399900\n",
       "1  1600         3  329900\n",
       "2  2400         3  369000\n",
       "3  1416         2  232000"
      ]
     },
     "execution_count": 2,
     "metadata": {},
     "output_type": "execute_result"
    }
   ],
   "source": [
    "data = pd.read_csv('ex1.csv')\n",
    "data.head(4)"
   ]
  },
  {
   "cell_type": "markdown",
   "metadata": {
    "colab_type": "text",
    "id": "6eroJgh3w6Rz"
   },
   "source": [
    "By looking at the values, note that house sizes are about 1000 times the number of bedrooms. When features differ by orders of magnitude, first performing feature scaling can make gradient descent converge much more quickly."
   ]
  },
  {
   "cell_type": "markdown",
   "metadata": {
    "colab_type": "text",
    "id": "nk3Af1n1w6R0"
   },
   "source": [
    "**Exercise 2.** Normalize the data by mean centering and dividing each column with the standard deviations. Do a code that can be generalized to any number of features and examples."
   ]
  },
  {
   "cell_type": "code",
   "execution_count": 3,
   "metadata": {},
   "outputs": [],
   "source": [
    "y = data['price']\n",
    "data.drop(columns=['price'], inplace=True)"
   ]
  },
  {
   "cell_type": "code",
   "execution_count": 4,
   "metadata": {},
   "outputs": [
    {
     "data": {
      "text/plain": [
       "0    399900\n",
       "1    329900\n",
       "2    369000\n",
       "3    232000\n",
       "4    539900\n",
       "Name: price, dtype: int64"
      ]
     },
     "execution_count": 4,
     "metadata": {},
     "output_type": "execute_result"
    }
   ],
   "source": [
    "y.head()"
   ]
  },
  {
   "cell_type": "code",
   "execution_count": 5,
   "metadata": {},
   "outputs": [
    {
     "data": {
      "text/html": [
       "<div>\n",
       "<style scoped>\n",
       "    .dataframe tbody tr th:only-of-type {\n",
       "        vertical-align: middle;\n",
       "    }\n",
       "\n",
       "    .dataframe tbody tr th {\n",
       "        vertical-align: top;\n",
       "    }\n",
       "\n",
       "    .dataframe thead th {\n",
       "        text-align: right;\n",
       "    }\n",
       "</style>\n",
       "<table border=\"1\" class=\"dataframe\">\n",
       "  <thead>\n",
       "    <tr style=\"text-align: right;\">\n",
       "      <th></th>\n",
       "      <th>area</th>\n",
       "      <th>bedrooms</th>\n",
       "    </tr>\n",
       "  </thead>\n",
       "  <tbody>\n",
       "    <tr>\n",
       "      <td>0</td>\n",
       "      <td>2104</td>\n",
       "      <td>3</td>\n",
       "    </tr>\n",
       "    <tr>\n",
       "      <td>1</td>\n",
       "      <td>1600</td>\n",
       "      <td>3</td>\n",
       "    </tr>\n",
       "    <tr>\n",
       "      <td>2</td>\n",
       "      <td>2400</td>\n",
       "      <td>3</td>\n",
       "    </tr>\n",
       "    <tr>\n",
       "      <td>3</td>\n",
       "      <td>1416</td>\n",
       "      <td>2</td>\n",
       "    </tr>\n",
       "    <tr>\n",
       "      <td>4</td>\n",
       "      <td>3000</td>\n",
       "      <td>4</td>\n",
       "    </tr>\n",
       "  </tbody>\n",
       "</table>\n",
       "</div>"
      ],
      "text/plain": [
       "   area  bedrooms\n",
       "0  2104         3\n",
       "1  1600         3\n",
       "2  2400         3\n",
       "3  1416         2\n",
       "4  3000         4"
      ]
     },
     "execution_count": 5,
     "metadata": {},
     "output_type": "execute_result"
    }
   ],
   "source": [
    "data.head()"
   ]
  },
  {
   "cell_type": "code",
   "execution_count": 6,
   "metadata": {},
   "outputs": [
    {
     "data": {
      "text/plain": [
       "array([2000.68085106,    3.17021277])"
      ]
     },
     "execution_count": 6,
     "metadata": {},
     "output_type": "execute_result"
    }
   ],
   "source": [
    "data.mean().values"
   ]
  },
  {
   "cell_type": "code",
   "execution_count": 7,
   "metadata": {
    "colab": {},
    "colab_type": "code",
    "id": "q5C9adVlw6R1"
   },
   "outputs": [],
   "source": [
    "def normalize_data(X):\n",
    "    \"\"\"\n",
    "    Get a pandas dataframe a return the normalize mean centered data.\n",
    "    \"\"\"\n",
    "    feature_mean = X.mean().values\n",
    "    feature_std = X.std().values\n",
    "    data = X.values\n",
    "    data = (data - feature_mean)/feature_std\n",
    "    return data, feature_mean, feature_std"
   ]
  },
  {
   "cell_type": "code",
   "execution_count": 8,
   "metadata": {},
   "outputs": [],
   "source": [
    "data, feature_mean, feature_std = normalize_data(data)"
   ]
  },
  {
   "cell_type": "code",
   "execution_count": 9,
   "metadata": {},
   "outputs": [
    {
     "data": {
      "text/html": [
       "<div>\n",
       "<style scoped>\n",
       "    .dataframe tbody tr th:only-of-type {\n",
       "        vertical-align: middle;\n",
       "    }\n",
       "\n",
       "    .dataframe tbody tr th {\n",
       "        vertical-align: top;\n",
       "    }\n",
       "\n",
       "    .dataframe thead th {\n",
       "        text-align: right;\n",
       "    }\n",
       "</style>\n",
       "<table border=\"1\" class=\"dataframe\">\n",
       "  <thead>\n",
       "    <tr style=\"text-align: right;\">\n",
       "      <th></th>\n",
       "      <th>area</th>\n",
       "      <th>bedrooms</th>\n",
       "    </tr>\n",
       "  </thead>\n",
       "  <tbody>\n",
       "    <tr>\n",
       "      <td>0</td>\n",
       "      <td>0.130010</td>\n",
       "      <td>-0.223675</td>\n",
       "    </tr>\n",
       "    <tr>\n",
       "      <td>1</td>\n",
       "      <td>-0.504190</td>\n",
       "      <td>-0.223675</td>\n",
       "    </tr>\n",
       "    <tr>\n",
       "      <td>2</td>\n",
       "      <td>0.502476</td>\n",
       "      <td>-0.223675</td>\n",
       "    </tr>\n",
       "    <tr>\n",
       "      <td>3</td>\n",
       "      <td>-0.735723</td>\n",
       "      <td>-1.537767</td>\n",
       "    </tr>\n",
       "    <tr>\n",
       "      <td>4</td>\n",
       "      <td>1.257476</td>\n",
       "      <td>1.090417</td>\n",
       "    </tr>\n",
       "  </tbody>\n",
       "</table>\n",
       "</div>"
      ],
      "text/plain": [
       "       area  bedrooms\n",
       "0  0.130010 -0.223675\n",
       "1 -0.504190 -0.223675\n",
       "2  0.502476 -0.223675\n",
       "3 -0.735723 -1.537767\n",
       "4  1.257476  1.090417"
      ]
     },
     "execution_count": 9,
     "metadata": {},
     "output_type": "execute_result"
    }
   ],
   "source": [
    "pd.DataFrame(columns = ['area', 'bedrooms'], data = data).head()"
   ]
  },
  {
   "cell_type": "markdown",
   "metadata": {
    "colab_type": "text",
    "id": "zxFQW5Ydw6R3"
   },
   "source": [
    "The standard deviation is a way of measuring how much variation there is in the range of values of a particular feature (most data points will lie within +2 and -2 standard deviations of the mean)."
   ]
  },
  {
   "cell_type": "markdown",
   "metadata": {
    "colab_type": "text",
    "id": "L2hpaO7Tw6R5"
   },
   "source": [
    "**Exercise 3.** Add a column of ones to your data. This will be the column correspondig to $x_0$."
   ]
  },
  {
   "cell_type": "code",
   "execution_count": 10,
   "metadata": {},
   "outputs": [],
   "source": [
    "N, F = data.shape"
   ]
  },
  {
   "cell_type": "code",
   "execution_count": 11,
   "metadata": {
    "colab": {},
    "colab_type": "code",
    "id": "ynGMwU5Zw6R6"
   },
   "outputs": [
    {
     "data": {
      "text/plain": [
       "array([[ 1.00000000e+00,  1.30009869e-01, -2.23675187e-01],\n",
       "       [ 1.00000000e+00, -5.04189838e-01, -2.23675187e-01],\n",
       "       [ 1.00000000e+00,  5.02476364e-01, -2.23675187e-01],\n",
       "       [ 1.00000000e+00, -7.35723065e-01, -1.53776691e+00],\n",
       "       [ 1.00000000e+00,  1.25747602e+00,  1.09041654e+00],\n",
       "       [ 1.00000000e+00, -1.97317285e-02,  1.09041654e+00],\n",
       "       [ 1.00000000e+00, -5.87239800e-01, -2.23675187e-01],\n",
       "       [ 1.00000000e+00, -7.21881404e-01, -2.23675187e-01],\n",
       "       [ 1.00000000e+00, -7.81023044e-01, -2.23675187e-01],\n",
       "       [ 1.00000000e+00, -6.37573110e-01, -2.23675187e-01],\n",
       "       [ 1.00000000e+00, -7.63567023e-02,  1.09041654e+00],\n",
       "       [ 1.00000000e+00, -8.56737193e-04, -2.23675187e-01],\n",
       "       [ 1.00000000e+00, -1.39273340e-01, -2.23675187e-01],\n",
       "       [ 1.00000000e+00,  3.11729182e+00,  2.40450826e+00],\n",
       "       [ 1.00000000e+00, -9.21956312e-01, -2.23675187e-01],\n",
       "       [ 1.00000000e+00,  3.76643089e-01,  1.09041654e+00],\n",
       "       [ 1.00000000e+00, -8.56523009e-01, -1.53776691e+00],\n",
       "       [ 1.00000000e+00, -9.62222960e-01, -2.23675187e-01],\n",
       "       [ 1.00000000e+00,  7.65467909e-01,  1.09041654e+00],\n",
       "       [ 1.00000000e+00,  1.29648433e+00,  1.09041654e+00],\n",
       "       [ 1.00000000e+00, -2.94048269e-01, -2.23675187e-01],\n",
       "       [ 1.00000000e+00, -1.41790005e-01, -1.53776691e+00],\n",
       "       [ 1.00000000e+00, -4.99156507e-01, -2.23675187e-01],\n",
       "       [ 1.00000000e+00, -4.86733818e-02,  1.09041654e+00],\n",
       "       [ 1.00000000e+00,  2.37739217e+00, -2.23675187e-01],\n",
       "       [ 1.00000000e+00, -1.13335621e+00, -2.23675187e-01],\n",
       "       [ 1.00000000e+00, -6.82873089e-01, -2.23675187e-01],\n",
       "       [ 1.00000000e+00,  6.61026291e-01, -2.23675187e-01],\n",
       "       [ 1.00000000e+00,  2.50809813e-01, -2.23675187e-01],\n",
       "       [ 1.00000000e+00,  8.00701226e-01, -2.23675187e-01],\n",
       "       [ 1.00000000e+00, -2.03448310e-01, -1.53776691e+00],\n",
       "       [ 1.00000000e+00, -1.25918949e+00, -2.85185864e+00],\n",
       "       [ 1.00000000e+00,  4.94765729e-02,  1.09041654e+00],\n",
       "       [ 1.00000000e+00,  1.42986760e+00, -2.23675187e-01],\n",
       "       [ 1.00000000e+00, -2.38681627e-01,  1.09041654e+00],\n",
       "       [ 1.00000000e+00, -7.09298077e-01, -2.23675187e-01],\n",
       "       [ 1.00000000e+00, -9.58447962e-01, -2.23675187e-01],\n",
       "       [ 1.00000000e+00,  1.65243186e-01,  1.09041654e+00],\n",
       "       [ 1.00000000e+00,  2.78635031e+00,  1.09041654e+00],\n",
       "       [ 1.00000000e+00,  2.02993169e-01,  1.09041654e+00],\n",
       "       [ 1.00000000e+00, -4.23656542e-01, -1.53776691e+00],\n",
       "       [ 1.00000000e+00,  2.98626458e-01, -2.23675187e-01],\n",
       "       [ 1.00000000e+00,  7.12617934e-01,  1.09041654e+00],\n",
       "       [ 1.00000000e+00, -1.00752294e+00, -2.23675187e-01],\n",
       "       [ 1.00000000e+00, -1.44542274e+00, -1.53776691e+00],\n",
       "       [ 1.00000000e+00, -1.87089985e-01,  1.09041654e+00],\n",
       "       [ 1.00000000e+00, -1.00374794e+00, -2.23675187e-01]])"
      ]
     },
     "execution_count": 11,
     "metadata": {},
     "output_type": "execute_result"
    }
   ],
   "source": [
    "data_with_ones = np.hstack((np.ones(shape=(N,1)), data))\n",
    "data_with_ones"
   ]
  },
  {
   "cell_type": "markdown",
   "metadata": {
    "colab_type": "text",
    "id": "fn4KSoDew6R8"
   },
   "source": [
    "## Gradient descent"
   ]
  },
  {
   "cell_type": "markdown",
   "metadata": {
    "colab_type": "text",
    "id": "YVpEAx2bw6R9"
   },
   "source": [
    "As you perform gradient descent to learn minimize the cost function it is helpful to monitor the convergence by computing the cost. In this section, you will implement a function to calculate $J(\\theta)$ so you can check the convergence of your gradient descent implementation."
   ]
  },
  {
   "cell_type": "markdown",
   "metadata": {
    "colab_type": "text",
    "id": "6Q4MNNOew6SA"
   },
   "source": [
    "**Exercise 4**. Create a function called `computeCost`, which is a function that computes $J(\\theta)$. As you are doing this, remember that the variables $X$ and $y$ are not scalar values, but matrices whose rows represent the examples from the training set. Run computeCost once using $\\theta$ initialized to zeros, and print the cost. You should expect to see a cost of 32.07."
   ]
  },
  {
   "cell_type": "markdown",
   "metadata": {},
   "source": [
    "* $ p = \\theta_1+\\theta_2x$\n",
    "* $ p = (\\theta_1, \\theta_2) ( 1, x )^{T}$\n",
    "* $ p = ( 1, x ) (\\theta_1, \\theta_2)^{T}$"
   ]
  },
  {
   "cell_type": "code",
   "execution_count": 12,
   "metadata": {},
   "outputs": [],
   "source": [
    "N, F = data_with_ones.shape"
   ]
  },
  {
   "cell_type": "code",
   "execution_count": 13,
   "metadata": {},
   "outputs": [],
   "source": [
    "y = y.values"
   ]
  },
  {
   "cell_type": "code",
   "execution_count": 14,
   "metadata": {
    "colab": {},
    "colab_type": "code",
    "id": "FFQu96GJw6SB"
   },
   "outputs": [],
   "source": [
    "def computeCost(theta, X, y):\n",
    "    N, _ = X.shape\n",
    "    pred = X.dot(theta)\n",
    "    cost = np.linalg.norm(pred - y)**2/(2*N)\n",
    "    return cost"
   ]
  },
  {
   "cell_type": "code",
   "execution_count": 15,
   "metadata": {},
   "outputs": [
    {
     "name": "stdout",
     "output_type": "stream",
     "text": [
      "65591548106.45746\n"
     ]
    }
   ],
   "source": [
    "theta = np.zeros(shape=(F,))\n",
    "print(computeCost(theta, data_with_ones, y))"
   ]
  },
  {
   "cell_type": "markdown",
   "metadata": {
    "colab_type": "text",
    "id": "XHcm8tt-w6SD"
   },
   "source": [
    "Next, you will implement gradient descent. As you program, make sure you understand what you are trying to optimize and what is being updated. Keep in mind that the cost $J(\\theta)$ is parameterized by the vector $\\theta$, not $X$ and $y$. That is, we minimize the value of $J(\\theta)$\n",
    "by changing the values of the vector $\\theta$, not by changing $X$ or $y$. Refer to the\n",
    "A good way to verify that gradient descent is working correctly is to look at the value of $J(\\theta)$ and check that it is decreasing with each step. "
   ]
  },
  {
   "cell_type": "markdown",
   "metadata": {
    "colab_type": "text",
    "id": "llYq99zPw6SE"
   },
   "source": [
    "**Exercise 5.** Implement a gradient descent algorithm for your data. Run your algorithm for 50 iterations and plot the $J(\\theta)$ against the number of iterations for different values of the learning rate."
   ]
  },
  {
   "cell_type": "code",
   "execution_count": 16,
   "metadata": {
    "colab": {},
    "colab_type": "code",
    "id": "sbPY4buEw6SF"
   },
   "outputs": [
    {
     "data": {
      "text/plain": [
       "array([0., 0., 0.])"
      ]
     },
     "execution_count": 16,
     "metadata": {},
     "output_type": "execute_result"
    }
   ],
   "source": [
    "theta = np.zeros(shape=(F,))\n",
    "theta"
   ]
  },
  {
   "cell_type": "code",
   "execution_count": 19,
   "metadata": {
    "colab": {},
    "colab_type": "code",
    "id": "sbPY4buEw6SF"
   },
   "outputs": [
    {
     "name": "stdout",
     "output_type": "stream",
     "text": [
      " iteration = 49\r"
     ]
    }
   ],
   "source": [
    "lrs = [1, 0.5, 0.05, 0.005, 0.002, 0.0001, 0.00005]\n",
    "lr_cost = []\n",
    "for lr in lrs:\n",
    "    theta = np.zeros(shape=(F,))\n",
    "    cost_history = []\n",
    "    for i in range(50):\n",
    "        cost = computeCost(theta, data_with_ones, y)\n",
    "        pred = data_with_ones.dot(theta)\n",
    "        for j in range(N):\n",
    "            theta -= lr * data_with_ones[j] * (pred[j] - y[j])\n",
    "        print('\\r iteration = {0}'.format(i), end = '\\r', flush=True)\n",
    "        cost_history.append(cost)\n",
    "    lr_cost.append(cost_history)"
   ]
  },
  {
   "cell_type": "code",
   "execution_count": 20,
   "metadata": {},
   "outputs": [
    {
     "name": "stdout",
     "output_type": "stream",
     "text": [
      " iteration = 49\r"
     ]
    }
   ],
   "source": [
    "lrs = [1, 0.5, 0.05, 0.03, 0.024, 0.023, 0.02, 0.01, 0.005]\n",
    "lr_cost = []\n",
    "for lr in lrs:\n",
    "    theta = np.zeros(shape=(F,))\n",
    "    cost_history = []\n",
    "    for i in range(50):\n",
    "        cost = computeCost(theta, data_with_ones, y)\n",
    "        pred = data_with_ones.dot(theta)\n",
    "        theta -= 1/N * lr * sum(data_with_ones * (pred-y).reshape(-1,1))\n",
    "        print('\\r iteration = {0}'.format(i), end = '\\r', flush=True)\n",
    "        cost_history.append(cost)\n",
    "    lr_cost.append(cost_history)"
   ]
  },
  {
   "cell_type": "code",
   "execution_count": 21,
   "metadata": {},
   "outputs": [
    {
     "data": {
      "image/png": "[encoded data removed]",
      "text/plain": [
       "<Figure size 432x288 with 9 Axes>"
      ]
     },
     "metadata": {
      "needs_background": "light"
     },
     "output_type": "display_data"
    }
   ],
   "source": [
    "for i in range(len(lrs)):\n",
    "    plt.subplot(3,3,i+1)\n",
    "    plt.plot(np.arange(50), lr_cost[i])\n",
    "    plt.title(f'lr = {lrs[i]}')\n",
    "    plt.tight_layout()\n",
    "plt.show()"
   ]
  },
  {
   "cell_type": "code",
   "execution_count": 22,
   "metadata": {},
   "outputs": [],
   "source": [
    "def train(lr, y, data_with_ones):\n",
    "    \"\"\"\n",
    "    Train the linear regression algorithm\n",
    "    \"\"\"\n",
    "    N, F = data_with_ones.shape\n",
    "    theta = np.zeros(shape=(F,))\n",
    "    cost_history = []\n",
    "    for i in range(50):\n",
    "        cost = computeCost(theta, data_with_ones, y)\n",
    "        pred = data_with_ones.dot(theta)\n",
    "        theta -= 1/N * lr * sum(data_with_ones * (pred-y).reshape(-1,1))\n",
    "        print('\\r iteration = {0}'.format(i), end = '\\r', flush=True)\n",
    "        cost_history.append(cost)\n",
    "    lr_cost.append(cost_history)\n",
    "    return theta"
   ]
  },
  {
   "cell_type": "code",
   "execution_count": 23,
   "metadata": {},
   "outputs": [
    {
     "name": "stdout",
     "output_type": "stream",
     "text": [
      " iteration = 49\r"
     ]
    }
   ],
   "source": [
    "theta = train(0.05, y, data_with_ones)"
   ]
  },
  {
   "cell_type": "code",
   "execution_count": 24,
   "metadata": {},
   "outputs": [],
   "source": [
    "pred = data_with_ones.dot(theta)"
   ]
  },
  {
   "cell_type": "code",
   "execution_count": 25,
   "metadata": {},
   "outputs": [
    {
     "data": {
      "text/plain": [
       "(array([323197.83291586, 266180.97077497, 356683.92655416, 229443.19821864,\n",
       "        440483.23611567, 325657.61097082, 258714.47692319, 246609.70658772,\n",
       "        241292.65793569, 254189.32913423, 320566.81970824, 311432.44866456,\n",
       "        298988.29224493, 623609.53964484, 228622.24412661, 361293.14980888,\n",
       "        218582.84352513, 225002.12589544, 396249.91647859, 443990.22565211,\n",
       "        285073.46279388, 282839.94212836, 266633.48555387, 323055.65099217,\n",
       "        525245.6816929 , 209616.62341298, 250116.69612416, 370938.14208938,\n",
       "        334058.18760936, 383495.42720374, 277296.63608688, 166459.56848634,\n",
       "        331879.68918064, 440059.77456574, 305973.21808885, 247740.99353496,\n",
       "        225341.51197961, 342287.52909525, 577934.60020531, 345681.38993697,\n",
       "        257499.11451019, 338357.07800887, 391498.51130018, 220929.49288537,\n",
       "        165638.61439431, 310611.49457253, 221268.87896955]),\n",
       " array([399900, 329900, 369000, 232000, 539900, 299900, 314900, 198999,\n",
       "        212000, 242500, 239999, 347000, 329999, 699900, 259900, 449900,\n",
       "        299900, 199900, 499998, 599000, 252900, 255000, 242900, 259900,\n",
       "        573900, 249900, 464500, 469000, 475000, 299900, 349900, 169900,\n",
       "        314900, 579900, 285900, 249900, 229900, 345000, 549000, 287000,\n",
       "        368500, 329900, 314000, 299000, 179900, 299900, 239500]))"
      ]
     },
     "execution_count": 25,
     "metadata": {},
     "output_type": "execute_result"
    }
   ],
   "source": [
    "pred, y"
   ]
  },
  {
   "cell_type": "markdown",
   "metadata": {
    "colab_type": "text",
    "id": "wWVJKkOyw6SH"
   },
   "source": [
    "Notice the changes in the convergence curves as the learning rate changes. With a small learning rate, you should find that gradient descent takes a very long time to converge to the optimal value. Conversely, with a large learning rate, gradient descent might not converge or might even diverge!\n"
   ]
  },
  {
   "cell_type": "markdown",
   "metadata": {
    "colab_type": "text",
    "id": "Pk0QiI1vw6SI"
   },
   "source": [
    "**Exercise 6.** Using the best learning rate that you found, run gradient descent until convergence to find the final values of $\\theta$. Next, use this value of $\\theta$ to predict the price of a house with 1650 square feet and 3 bedrooms."
   ]
  },
  {
   "cell_type": "code",
   "execution_count": 26,
   "metadata": {
    "colab": {},
    "colab_type": "code",
    "id": "1FklTuKaw6SJ"
   },
   "outputs": [
    {
     "data": {
      "text/html": [
       "<div>\n",
       "<style scoped>\n",
       "    .dataframe tbody tr th:only-of-type {\n",
       "        vertical-align: middle;\n",
       "    }\n",
       "\n",
       "    .dataframe tbody tr th {\n",
       "        vertical-align: top;\n",
       "    }\n",
       "\n",
       "    .dataframe thead th {\n",
       "        text-align: right;\n",
       "    }\n",
       "</style>\n",
       "<table border=\"1\" class=\"dataframe\">\n",
       "  <thead>\n",
       "    <tr style=\"text-align: right;\">\n",
       "      <th></th>\n",
       "      <th>area</th>\n",
       "      <th>bedrooms</th>\n",
       "      <th>price</th>\n",
       "    </tr>\n",
       "  </thead>\n",
       "  <tbody>\n",
       "    <tr>\n",
       "      <td>0</td>\n",
       "      <td>2104</td>\n",
       "      <td>3</td>\n",
       "      <td>399900</td>\n",
       "    </tr>\n",
       "    <tr>\n",
       "      <td>1</td>\n",
       "      <td>1600</td>\n",
       "      <td>3</td>\n",
       "      <td>329900</td>\n",
       "    </tr>\n",
       "    <tr>\n",
       "      <td>2</td>\n",
       "      <td>2400</td>\n",
       "      <td>3</td>\n",
       "      <td>369000</td>\n",
       "    </tr>\n",
       "    <tr>\n",
       "      <td>3</td>\n",
       "      <td>1416</td>\n",
       "      <td>2</td>\n",
       "      <td>232000</td>\n",
       "    </tr>\n",
       "    <tr>\n",
       "      <td>4</td>\n",
       "      <td>3000</td>\n",
       "      <td>4</td>\n",
       "      <td>539900</td>\n",
       "    </tr>\n",
       "  </tbody>\n",
       "</table>\n",
       "</div>"
      ],
      "text/plain": [
       "   area  bedrooms   price\n",
       "0  2104         3  399900\n",
       "1  1600         3  329900\n",
       "2  2400         3  369000\n",
       "3  1416         2  232000\n",
       "4  3000         4  539900"
      ]
     },
     "execution_count": 26,
     "metadata": {},
     "output_type": "execute_result"
    }
   ],
   "source": [
    "data = pd.read_csv('ex1.csv')\n",
    "data.head()"
   ]
  },
  {
   "cell_type": "code",
   "execution_count": 27,
   "metadata": {},
   "outputs": [
    {
     "data": {
      "text/html": [
       "<div>\n",
       "<style scoped>\n",
       "    .dataframe tbody tr th:only-of-type {\n",
       "        vertical-align: middle;\n",
       "    }\n",
       "\n",
       "    .dataframe tbody tr th {\n",
       "        vertical-align: top;\n",
       "    }\n",
       "\n",
       "    .dataframe thead th {\n",
       "        text-align: right;\n",
       "    }\n",
       "</style>\n",
       "<table border=\"1\" class=\"dataframe\">\n",
       "  <thead>\n",
       "    <tr style=\"text-align: right;\">\n",
       "      <th></th>\n",
       "      <th>area</th>\n",
       "      <th>bedrooms</th>\n",
       "      <th>price</th>\n",
       "    </tr>\n",
       "  </thead>\n",
       "  <tbody>\n",
       "    <tr>\n",
       "      <td>47</td>\n",
       "      <td>1650</td>\n",
       "      <td>3</td>\n",
       "      <td>NaN</td>\n",
       "    </tr>\n",
       "  </tbody>\n",
       "</table>\n",
       "</div>"
      ],
      "text/plain": [
       "    area bedrooms price\n",
       "47  1650        3   NaN"
      ]
     },
     "execution_count": 27,
     "metadata": {},
     "output_type": "execute_result"
    }
   ],
   "source": [
    "new_data = pd.DataFrame(columns = ['area', 'bedrooms', 'price'], index = [data.shape[0]])\n",
    "new_data.iloc[0] = [1650, 3, np.nan]\n",
    "new_data"
   ]
  },
  {
   "cell_type": "code",
   "execution_count": 28,
   "metadata": {},
   "outputs": [],
   "source": [
    "data = data.append(new_data)"
   ]
  },
  {
   "cell_type": "code",
   "execution_count": 29,
   "metadata": {},
   "outputs": [
    {
     "data": {
      "text/html": [
       "<div>\n",
       "<style scoped>\n",
       "    .dataframe tbody tr th:only-of-type {\n",
       "        vertical-align: middle;\n",
       "    }\n",
       "\n",
       "    .dataframe tbody tr th {\n",
       "        vertical-align: top;\n",
       "    }\n",
       "\n",
       "    .dataframe thead th {\n",
       "        text-align: right;\n",
       "    }\n",
       "</style>\n",
       "<table border=\"1\" class=\"dataframe\">\n",
       "  <thead>\n",
       "    <tr style=\"text-align: right;\">\n",
       "      <th></th>\n",
       "      <th>area</th>\n",
       "      <th>bedrooms</th>\n",
       "      <th>price</th>\n",
       "    </tr>\n",
       "  </thead>\n",
       "  <tbody>\n",
       "    <tr>\n",
       "      <td>44</td>\n",
       "      <td>852</td>\n",
       "      <td>2</td>\n",
       "      <td>179900</td>\n",
       "    </tr>\n",
       "    <tr>\n",
       "      <td>45</td>\n",
       "      <td>1852</td>\n",
       "      <td>4</td>\n",
       "      <td>299900</td>\n",
       "    </tr>\n",
       "    <tr>\n",
       "      <td>46</td>\n",
       "      <td>1203</td>\n",
       "      <td>3</td>\n",
       "      <td>239500</td>\n",
       "    </tr>\n",
       "    <tr>\n",
       "      <td>47</td>\n",
       "      <td>1650</td>\n",
       "      <td>3</td>\n",
       "      <td>NaN</td>\n",
       "    </tr>\n",
       "  </tbody>\n",
       "</table>\n",
       "</div>"
      ],
      "text/plain": [
       "    area bedrooms   price\n",
       "44   852        2  179900\n",
       "45  1852        4  299900\n",
       "46  1203        3  239500\n",
       "47  1650        3     NaN"
      ]
     },
     "execution_count": 29,
     "metadata": {},
     "output_type": "execute_result"
    }
   ],
   "source": [
    "data.tail(4)"
   ]
  },
  {
   "cell_type": "code",
   "execution_count": 30,
   "metadata": {},
   "outputs": [],
   "source": [
    "to_predict = data.iloc[-1,:2].values.reshape(1,-1)\n",
    "x_new = np.hstack((np.ones(shape=(1,1)), to_predict))"
   ]
  },
  {
   "cell_type": "code",
   "execution_count": 36,
   "metadata": {},
   "outputs": [],
   "source": [
    "x_new = x_new.reshape(3)"
   ]
  },
  {
   "cell_type": "code",
   "execution_count": 37,
   "metadata": {},
   "outputs": [
    {
     "data": {
      "text/plain": [
       "array([2000.68085106,    3.17021277])"
      ]
     },
     "execution_count": 37,
     "metadata": {},
     "output_type": "execute_result"
    }
   ],
   "source": [
    "feature_mean"
   ]
  },
  {
   "cell_type": "code",
   "execution_count": 40,
   "metadata": {},
   "outputs": [],
   "source": [
    "x_new[1:] = (x_new[1:] - feature_mean)/feature_std"
   ]
  },
  {
   "cell_type": "code",
   "execution_count": 41,
   "metadata": {},
   "outputs": [
    {
     "data": {
      "text/plain": [
       "array([1.0, -0.4412732005944351, -0.2236751871685913], dtype=object)"
      ]
     },
     "execution_count": 41,
     "metadata": {},
     "output_type": "execute_result"
    }
   ],
   "source": [
    "x_new"
   ]
  },
  {
   "cell_type": "code",
   "execution_count": 42,
   "metadata": {},
   "outputs": [
    {
     "data": {
      "text/plain": [
       "array([314219.61589963,  89903.63994937,  12116.42416497])"
      ]
     },
     "execution_count": 42,
     "metadata": {},
     "output_type": "execute_result"
    }
   ],
   "source": [
    "theta"
   ]
  },
  {
   "cell_type": "code",
   "execution_count": 44,
   "metadata": {},
   "outputs": [
    {
     "data": {
      "text/plain": [
       "271837.4055111686"
      ]
     },
     "execution_count": 44,
     "metadata": {},
     "output_type": "execute_result"
    }
   ],
   "source": [
    "# Make the prediction\n",
    "pred = x_new.dot(theta)\n",
    "pred"
   ]
  },
  {
   "cell_type": "code",
   "execution_count": 46,
   "metadata": {},
   "outputs": [],
   "source": [
    "data.iloc[-1,-1] = pred"
   ]
  },
  {
   "cell_type": "code",
   "execution_count": 48,
   "metadata": {},
   "outputs": [
    {
     "data": {
      "text/html": [
       "<div>\n",
       "<style scoped>\n",
       "    .dataframe tbody tr th:only-of-type {\n",
       "        vertical-align: middle;\n",
       "    }\n",
       "\n",
       "    .dataframe tbody tr th {\n",
       "        vertical-align: top;\n",
       "    }\n",
       "\n",
       "    .dataframe thead th {\n",
       "        text-align: right;\n",
       "    }\n",
       "</style>\n",
       "<table border=\"1\" class=\"dataframe\">\n",
       "  <thead>\n",
       "    <tr style=\"text-align: right;\">\n",
       "      <th></th>\n",
       "      <th>area</th>\n",
       "      <th>bedrooms</th>\n",
       "      <th>price</th>\n",
       "    </tr>\n",
       "  </thead>\n",
       "  <tbody>\n",
       "    <tr>\n",
       "      <td>44</td>\n",
       "      <td>852</td>\n",
       "      <td>2</td>\n",
       "      <td>179900</td>\n",
       "    </tr>\n",
       "    <tr>\n",
       "      <td>45</td>\n",
       "      <td>1852</td>\n",
       "      <td>4</td>\n",
       "      <td>299900</td>\n",
       "    </tr>\n",
       "    <tr>\n",
       "      <td>46</td>\n",
       "      <td>1203</td>\n",
       "      <td>3</td>\n",
       "      <td>239500</td>\n",
       "    </tr>\n",
       "    <tr>\n",
       "      <td>47</td>\n",
       "      <td>1650</td>\n",
       "      <td>3</td>\n",
       "      <td>271837</td>\n",
       "    </tr>\n",
       "  </tbody>\n",
       "</table>\n",
       "</div>"
      ],
      "text/plain": [
       "    area bedrooms   price\n",
       "44   852        2  179900\n",
       "45  1852        4  299900\n",
       "46  1203        3  239500\n",
       "47  1650        3  271837"
      ]
     },
     "execution_count": 48,
     "metadata": {},
     "output_type": "execute_result"
    }
   ],
   "source": [
    "data.tail(4) # see the prediction in the pandas datafram"
   ]
  },
  {
   "cell_type": "markdown",
   "metadata": {
    "colab_type": "text",
    "id": "DkyhDXpqw6SL"
   },
   "source": [
    "### Ordinary least squares solution"
   ]
  },
  {
   "cell_type": "markdown",
   "metadata": {
    "colab_type": "text",
    "id": "0Gg0udMmw6SM"
   },
   "source": [
    "You learned that the closed-form solution to linear regression is the ordinary least squares solution.\n",
    "Using this formula does not require any feature scaling, and you will get\n",
    "an exact solution in one calculation: there is no \"loop until convergence\" like\n",
    "in gradient descent. OLS doesn't need "
   ]
  },
  {
   "cell_type": "markdown",
   "metadata": {
    "colab_type": "text",
    "id": "AJdf7Rcfw6SM"
   },
   "source": [
    "**Exercise 7.** Calculate the ordinary least squares solution and compare to the solution obtained with gradient descent algorithm."
   ]
  },
  {
   "cell_type": "markdown",
   "metadata": {},
   "source": [
    "formula: $\\beta = (X^{T}X)^{-1}X^{T}y$"
   ]
  },
  {
   "cell_type": "code",
   "execution_count": 85,
   "metadata": {
    "colab": {},
    "colab_type": "code",
    "id": "M_6V-cnmw6SN"
   },
   "outputs": [],
   "source": [
    "data = pd.read_csv('ex1.csv')\n",
    "X = data.drop(columns = ['price']).copy()\n",
    "y = data['price'].copy()"
   ]
  },
  {
   "cell_type": "code",
   "execution_count": 90,
   "metadata": {},
   "outputs": [],
   "source": [
    "X = X.values\n",
    "y = y.values"
   ]
  },
  {
   "cell_type": "code",
   "execution_count": 92,
   "metadata": {},
   "outputs": [],
   "source": [
    "theta = np.linalg.pinv(X.T@X)@X.T@y"
   ]
  },
  {
   "cell_type": "code",
   "execution_count": 93,
   "metadata": {},
   "outputs": [
    {
     "data": {
      "text/plain": [
       "array([  140.86108621, 16978.19105904])"
      ]
     },
     "execution_count": 93,
     "metadata": {},
     "output_type": "execute_result"
    }
   ],
   "source": [
    "theta"
   ]
  },
  {
   "cell_type": "code",
   "execution_count": 94,
   "metadata": {},
   "outputs": [],
   "source": [
    "x_new = np.array([[1650, 3]])"
   ]
  },
  {
   "cell_type": "code",
   "execution_count": 95,
   "metadata": {},
   "outputs": [],
   "source": [
    "pred = x_new.dot(theta)"
   ]
  },
  {
   "cell_type": "code",
   "execution_count": 96,
   "metadata": {},
   "outputs": [
    {
     "data": {
      "text/plain": [
       "array([283355.36542505])"
      ]
     },
     "execution_count": 96,
     "metadata": {},
     "output_type": "execute_result"
    }
   ],
   "source": [
    "pred"
   ]
  },
  {
   "cell_type": "markdown",
   "metadata": {
    "colab_type": "text",
    "id": "_1Vq0LEXw6SQ"
   },
   "source": [
    "### Using scikit-learn library for linear regression"
   ]
  },
  {
   "cell_type": "markdown",
   "metadata": {
    "colab_type": "text",
    "id": "lkK-zRASw6SQ"
   },
   "source": [
    "Scikit-learn is probably the most useful library for machine learning in Python. This library contains a lot of effiecient tools for machine learning and statistical modeling including classification, regression, clustering and dimensionality reduction.\n",
    "With this library we can fit several machine learnings including linear regression, without programming the optimization algorithms.\n",
    "Let's see how this works."
   ]
  },
  {
   "cell_type": "markdown",
   "metadata": {
    "colab_type": "text",
    "id": "zPeZrDz1w6SR"
   },
   "source": [
    "First we need to import the required libraries into python environment"
   ]
  },
  {
   "cell_type": "code",
   "execution_count": 66,
   "metadata": {
    "colab": {},
    "colab_type": "code",
    "id": "1vfz2LZ_w6SS"
   },
   "outputs": [],
   "source": [
    "from sklearn.linear_model import LinearRegression\n",
    "from sklearn import metrics\n",
    "from sklearn.preprocessing import StandardScaler"
   ]
  },
  {
   "cell_type": "markdown",
   "metadata": {
    "colab_type": "text",
    "id": "piYV6PYAw6SU"
   },
   "source": [
    "Now we need to fit our linear model. This is equivalent to finding the values of $\\theta$."
   ]
  },
  {
   "cell_type": "markdown",
   "metadata": {
    "colab_type": "text",
    "id": "8vWDrocqw6SV"
   },
   "source": [
    "**Exercise 8.** Complete the following code to fit a linear regression model. Scikit-learn linear regression adds an intercept automatically, which means that your matrix X_train shouldn't include the column of ones. Compare the values of $\\theta$ with the ones that you obtained with gradient descent and OLS."
   ]
  },
  {
   "cell_type": "code",
   "execution_count": 74,
   "metadata": {},
   "outputs": [],
   "source": [
    "X_train = pd.read_csv('ex1.csv')\n",
    "y_train = X_train['price']\n",
    "X_train.drop(columns = ['price'], inplace=True)"
   ]
  },
  {
   "cell_type": "code",
   "execution_count": 75,
   "metadata": {},
   "outputs": [],
   "source": [
    "st = StandardScaler()"
   ]
  },
  {
   "cell_type": "code",
   "execution_count": 76,
   "metadata": {},
   "outputs": [],
   "source": [
    "X_train = st.fit_transform(X_train)"
   ]
  },
  {
   "cell_type": "code",
   "execution_count": 77,
   "metadata": {
    "colab": {},
    "colab_type": "code",
    "id": "hn1_hy33w6SW"
   },
   "outputs": [
    {
     "name": "stdout",
     "output_type": "stream",
     "text": [
      "340412.6595744681\n",
      "[109447.79646964  -6578.35485416]\n"
     ]
    }
   ],
   "source": [
    "regressor = LinearRegression()  \n",
    "regressor.fit(X_train, y_train) #training the algorithm\n",
    "\n",
    "#To retrieve the intercept (\\theta_0)\n",
    "print(regressor.intercept_)\n",
    "#For retrieving the rest of parameters:\n",
    "print(regressor.coef_)"
   ]
  },
  {
   "cell_type": "markdown",
   "metadata": {
    "colab_type": "text",
    "id": "1b4Wj-lGw6SY"
   },
   "source": [
    "**Exercise 9.** Let's use scikit learn to predict the price of a house with 1650 square feet and 3 bedrooms, as we did before. Complete the following code by creating a vector `x_test` containing the desired values for prediction and check the result obained."
   ]
  },
  {
   "cell_type": "code",
   "execution_count": 78,
   "metadata": {},
   "outputs": [],
   "source": [
    "X_test = [[1650, 3]]"
   ]
  },
  {
   "cell_type": "code",
   "execution_count": 81,
   "metadata": {},
   "outputs": [],
   "source": [
    "X_test = st.transform(X_test)"
   ]
  },
  {
   "cell_type": "code",
   "execution_count": 82,
   "metadata": {
    "colab": {},
    "colab_type": "code",
    "id": "lr7tcmMvw6SZ"
   },
   "outputs": [],
   "source": [
    "y_pred = regressor.predict(X_test)"
   ]
  },
  {
   "cell_type": "code",
   "execution_count": 83,
   "metadata": {},
   "outputs": [
    {
     "data": {
      "text/plain": [
       "array([293081.4643349])"
      ]
     },
     "execution_count": 83,
     "metadata": {},
     "output_type": "execute_result"
    }
   ],
   "source": [
    "y_pred"
   ]
  },
  {
   "cell_type": "markdown",
   "metadata": {
    "colab_type": "text",
    "id": "OSxBNY-Hw6Sb"
   },
   "source": [
    "## Conclusion"
   ]
  },
  {
   "cell_type": "markdown",
   "metadata": {
    "colab_type": "text",
    "id": "c_0YyZIdw6Sc"
   },
   "source": [
    "We have implemented gradient descent, and ordinary least squares for solving a linear regression model and give a prediction. We've also learned the basics for using scikit-learn library to fit a linear regression model. \n",
    "\n",
    "You have started your journey to become a Machine Learning expert!"
   ]
  }
 ],
 "metadata": {
  "colab": {
   "name": "linear_regression.ipynb",
   "provenance": []
  },
  "kernelspec": {
   "display_name": "Python 3",
   "language": "python",
   "name": "python3"
  },
  "language_info": {
   "codemirror_mode": {
    "name": "ipython",
    "version": 3
   },
   "file_extension": ".py",
   "mimetype": "text/x-python",
   "name": "python",
   "nbconvert_exporter": "python",
   "pygments_lexer": "ipython3",
   "version": "3.7.4"
  }
 },
 "nbformat": 4,
 "nbformat_minor": 4
}
