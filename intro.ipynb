{
 "cells": [
  {
   "cell_type": "markdown",
   "metadata": {
    "colab_type": "text",
    "id": "AxWlh5i9KshX"
   },
   "source": [
    "# Setup: Python, Jupyter Notebook"
   ]
  },
  {
   "cell_type": "markdown",
   "metadata": {
    "colab_type": "text",
    "id": "v79DbedwKsha"
   },
   "source": [
    "## Python and Jupyter "
   ]
  },
  {
   "cell_type": "markdown",
   "metadata": {
    "colab_type": "text",
    "id": "b0cux7BBK6hj"
   },
   "source": []
  },
  {
   "cell_type": "markdown",
   "metadata": {
    "colab_type": "text",
    "id": "otWJ5_cJKshb"
   },
   "source": [
    "Python is a general purpose programming language that allows for both simple and complex data analysis. Python is incredibly versatile, allowing analysts, consultants, engineers, and managers to obtain and analyze information for insightful decision-making.\n",
    "\n",
    "The Jupyter Notebook is an open-source web application that allows for Python code development. Jupyter further allows for inline plotting and provides useful mechanisms for viewing data that make it an excellent resource for a variety of projects and disciplines.\n",
    "\n",
    "The following section will outline how to install and begin working with Python and Juypter."
   ]
  },
  {
   "cell_type": "markdown",
   "metadata": {
    "colab_type": "text",
    "id": "1srntbFiKshc"
   },
   "source": [
    "## Setting up the Python Environment"
   ]
  },
  {
   "cell_type": "markdown",
   "metadata": {
    "colab_type": "text",
    "id": "_BNrIStOKshd"
   },
   "source": [
    "Instruction guides for Windows and macOS are included below. Follow the one that corresponds with your operating system.\n",
    "\n",
    "### Windows Install:\n",
    "Step 1: Open browser and go to https://www.anaconda.com/distribution/\n",
    "\n",
    "Step 2: Click on \"Windows\" and then \"Download\" for Python 3.7 64-bit installer\n",
    "\n",
    "Step 3: Run the downloaded file found in the downloads section from Step 2\n",
    "\n",
    "Step 4: Click through the install prompts\n",
    "\n",
    "Step 5: Go to menu (or Windows Explorer), find the Anaconda3 folder, and double-click to run\n",
    "\n",
    "### macOS Install:\n",
    "Step 1: Open browser and go to https://www.anaconda.com/distribution/\n",
    "\n",
    "Step 2: Click on \"macOS\" and then \"Download\" for Python 3.7 64-bit installer\n",
    "\n",
    "Step 3: Run the downloaded file found in the downloads section from Step 2\n",
    "\n",
    "Step 4: Click through the install prompts\n",
    "\n",
    "Step 5: In Finder (or Launchpad), browse to the Anaconda3 folder to find the Jupyter program, and double-click to run"
   ]
  },
  {
   "cell_type": "markdown",
   "metadata": {
    "colab_type": "text",
    "id": "F-qrCXPuKshe"
   },
   "source": [
    "## File Management with Python and Jupyter"
   ]
  },
  {
   "cell_type": "markdown",
   "metadata": {
    "colab_type": "text",
    "id": "XQ9lMXadKshf"
   },
   "source": [
    "It is common practice to have a main folder where all projects will be located (e.g. \"jupyter_research\"). The following are guidelines you can use for Python projects to help keep your code organized and accessible:\n",
    "\n",
    "1. Create subfolders for each Jupyter-related project\n",
    "3. Group related .ipynb files together in the same folder\n",
    "2. It can be useful to create a \"Data\" folder within individual project folders if using a large number of related data files"
   ]
  },
  {
   "cell_type": "markdown",
   "metadata": {
    "colab_type": "text",
    "id": "olSx90_1Kshg"
   },
   "source": [
    "You should now be set up and ready to begin coding in Python!"
   ]
  },
  {
   "cell_type": "markdown",
   "metadata": {
    "colab_type": "text",
    "id": "tMi4q-2vKshg"
   },
   "source": [
    "# Identifying Expansion Opportunities for Luxury Commercial Airline Flights"
   ]
  },
  {
   "cell_type": "markdown",
   "metadata": {
    "colab_type": "text",
    "id": "bnnV-SFJKshh"
   },
   "source": [
    "## Case Introduction"
   ]
  },
  {
   "cell_type": "markdown",
   "metadata": {
    "colab_type": "text",
    "id": "11p3xYBcKshi"
   },
   "source": [
    "**Business Context.** You are an employee for GrowthAir, a growing commercial airline company. In the past few years, GrowthAir has expanded luxury flight services to locations across the globe. Following your team's excellent performance in identifying new business opportunities last year, you have been tasked with identifying the top countries to further expand GrowthAir's luxury flight service."
   ]
  },
  {
   "cell_type": "markdown",
   "metadata": {
    "colab_type": "text",
    "id": "CJOcGGGZKshj"
   },
   "source": [
    "**Business Problem.** Your manager has asked you to answer the following question: <b>\"In which countries should GrowthAir expand its luxury flight service?\"</b>"
   ]
  },
  {
   "cell_type": "markdown",
   "metadata": {
    "colab_type": "text",
    "id": "2jRliCTeKshk"
   },
   "source": [
    "**Analytical Context.** The relevant data is a series of success estimates (i.e. probabilities of success) that your internal marketing research teams have come up with. Using your ability to conduct data analysis in Python, you will embark on summarizing the available success estimates to produce a concise recommendation to your boss."
   ]
  },
  {
   "cell_type": "markdown",
   "metadata": {
    "colab_type": "text",
    "id": "4YqzxeC1Kshl"
   },
   "source": [
    "## Fundamentals of Python"
   ]
  },
  {
   "cell_type": "markdown",
   "metadata": {
    "colab_type": "text",
    "id": "uZ9C6sb4Kshm"
   },
   "source": [
    "\n",
    "Python is an interpreted, high-level general programming language that was first released in 1991. Python allows users to easily manipulate data and store values in what are known as <b>objects</b>. Everything in Python is an object and has a <b>type</b>. For example, if a user aims to store the integer 5 in an object named ```my_int```, this can be accomplished by the statement, ```my_int = 5```. This statement tells Python to assign the integer value of 5 to the **variable** ```my_int``` (called a variable here because it can change value). ```my_int``` is a Python object, and has type ```int```.\n",
    "\n",
    "Similar to how Excel distinguishes different data types (such as Text, Number, Currency, Scientific), Python offers a variety of data types. Here are a few common data types:\n",
    "\n",
    "1. Integers, type ```int```: ```my_int = 1```\n",
    "2. Float type ```float```: ```my_float = 25.5```\n",
    "3. Strings, type ```str```: ```my_string = 'Hello'```\n",
    "\n",
    "Here we see (1) <b>integers</b> and (2) <b>floats</b> store numeric data.  The difference between the two is that floats store decimal variables, whereas the integer type can only store integer variables. (3) is the <b>string</b> type. Strings are used to store textual data in Python. This case will use string variables to store country names. They are often used to store identifiers such as person names, city names, and more.\n",
    "\n",
    "There are other data types available in Python; however, these are the three fundamental types that you will see across almost every Python program. Always keep in mind that **every** object in Python has a type.\n",
    "\n",
    "Now that we've covered the fundamentals of Python, let's take a look at GrowthAir's proprietary company data on country success estimates."
   ]
  },
  {
   "cell_type": "markdown",
   "metadata": {
    "colab_type": "text",
    "id": "c3ZT16GpKshn"
   },
   "source": [
    "## Exploring company data on success estimates"
   ]
  },
  {
   "cell_type": "markdown",
   "metadata": {
    "colab_type": "text",
    "id": "OeP29Wy4Ksho"
   },
   "source": [
    "Let's take a look at a common data structure used to hold your company's proprietary data on estimates of probability of success for global expansion projects by country.  The ```success_estimates``` variable below is a Python dictionary, which is being assigned certain data using the ```'='``` <b>assignment operator</b>. Each estimate here is a number (float) between 0 and 1, inclusive, which represents the probability that expanding to that country will be successful.\n",
    "\n",
    "Python's dictionary type stores key-value pairs that allow users to quickly access information for a particular key. By specifying a key, the user can return the value corresponding to the given key. Python's syntax for dictionaries uses curly braces {},\n",
    "\n",
    "```python\n",
    "user_dictionary = {'Key1':Value1, 'Key2':Value2, 'Key3':Value3}\n",
    "```\n",
    "\n",
    "The ```success_estimates``` dictionary has keys which are strings, and values which are of type <b>list</b>. A <b>list</b> is an incredibly useful data structure in Python that can store any number of Python objects, and are denoted by the use of square brackets ```[]```. In ```success_estimates``` below, the list contains float types. Lists are versatile and can be expanded by adding new elements to the end of the list (the right-most side is considered the end of the list). Moreover, list elements (i.e. the objects in the list) can be accessed easily using integer indices. Interestingly, lists can also store other lists (called a lists of lists).  This makes them a powerful tool for holding complex data sets.\n",
    "\n",
    "Let's take a look at the ```success_estimates``` data:"
   ]
  },
  {
   "cell_type": "code",
   "execution_count": 1,
   "metadata": {
    "colab": {},
    "colab_type": "code",
    "id": "qLgIr0G3Ksho"
   },
   "outputs": [],
   "source": [
    "# Data on probability of expansion success by country estimates\n",
    "success_estimates = {'Australia': [0.6, 0.33, 0.11, 0.14],\n",
    "                     'France': [0.66, 0.78, 0.98, 0.2],\n",
    "                     'Italy': [0.6],\n",
    "                     'Brazil': [0.22, 0.22, 0.43],\n",
    "                     'USA': [0.2, 0.5, 0.3],\n",
    "                     'England': [0.45],\n",
    "                     'Canada': [0.25, 0.3],\n",
    "                     'Argentina': [0.22],\n",
    "                     'Greece': [0.45, 0.66, 0.75, 0.99, 0.15, 0.66],\n",
    "                     'Morocco': [0.29], \n",
    "                     'Tunisia': [0.68, 0.56],\n",
    "                     'Egypt': [0.99],\n",
    "                     'Jamaica': [0.61, 0.65, 0.71],\n",
    "                     'Switzerland': [0.73, 0.86, 0.84, 0.51, 0.99],\n",
    "                     'Germany': [0.45, 0.49, 0.36]}"
   ]
  },
  {
   "cell_type": "markdown",
   "metadata": {
    "colab_type": "text",
    "id": "3Ky5bIrsKsht"
   },
   "source": [
    "Python easily allows you to print the elements stored in any variable to the screen using the ```print()``` statement:"
   ]
  },
  {
   "cell_type": "code",
   "execution_count": 2,
   "metadata": {
    "colab": {
     "base_uri": "https://localhost:8080/",
     "height": 54
    },
    "colab_type": "code",
    "executionInfo": {
     "elapsed": 998,
     "status": "ok",
     "timestamp": 1581172848813,
     "user": {
      "displayName": "Ricardo Andres Meriño De Moya",
      "photoUrl": "",
      "userId": "16051932377481611457"
     },
     "user_tz": 300
    },
    "id": "96gYu0i6Kshu",
    "outputId": "9d0011a4-bb58-4fc7-d569-91874ebec457",
    "scrolled": true
   },
   "outputs": [
    {
     "name": "stdout",
     "output_type": "stream",
     "text": [
      "{'Brazil': [0.22, 0.22, 0.43], 'Canada': [0.25, 0.3], 'Italy': [0.6], 'USA': [0.2, 0.5, 0.3], 'France': [0.66, 0.78, 0.98, 0.2], 'Morocco': [0.29], 'Switzerland': [0.73, 0.86, 0.84, 0.51, 0.99], 'Argentina': [0.22], 'Jamaica': [0.61, 0.65, 0.71], 'Australia': [0.6, 0.33, 0.11, 0.14], 'England': [0.45], 'Tunisia': [0.68, 0.56], 'Egypt': [0.99], 'Germany': [0.45, 0.49, 0.36], 'Greece': [0.45, 0.66, 0.75, 0.99, 0.15, 0.66]}\n"
     ]
    }
   ],
   "source": [
    "print(success_estimates)"
   ]
  },
  {
   "cell_type": "markdown",
   "metadata": {
    "colab_type": "text",
    "id": "BD9iEsadKshy"
   },
   "source": [
    "Notice the re-ordering of the dictonary elements when we print compared to the order in which we originally defined the dictionary. This is a key aspect of dictionary data types – they are unordered! (This is very different compared to list data types, which are ordered. More on this later.)\n",
    "\n",
    "Now intuitively, we would like to recommend that the business put effort into the country with the highest success estimate. But what does this mean when there are multiple success estimates for some countries, and only one for others? We will explore this next."
   ]
  },
  {
   "cell_type": "markdown",
   "metadata": {
    "colab_type": "text",
    "id": "zQZyDg1PKshz"
   },
   "source": [
    "## Interacting with dictionaries and lists"
   ]
  },
  {
   "cell_type": "markdown",
   "metadata": {
    "colab_type": "text",
    "id": "oUFzPj0eKshz"
   },
   "source": [
    "Taking a careful look at the ```success_estimates``` dictionary, you notice some countries only have one success estimate, while others have many. For example, England has only one estimate contained in its list [0.45], while Jamaica has three estimates contained in its list [0.61, 0.65, 0.71]. Let's zoom in on Jamaica and take a look at some summary statistics of the estimates.\n",
    "\n",
    "In Python, the dictionary type has built-in methods (functions, which we will discuss later) to access the dictionary keys and values. These methods are called by typing ```.keys()``` or ```.values()``` after the dictonary object. We will change the return type of calling ```.keys()``` and ```.values()``` to a list by using the ```list()``` method."
   ]
  },
  {
   "cell_type": "code",
   "execution_count": 3,
   "metadata": {
    "colab": {
     "base_uri": "https://localhost:8080/",
     "height": 272
    },
    "colab_type": "code",
    "executionInfo": {
     "elapsed": 1444,
     "status": "ok",
     "timestamp": 1581172856167,
     "user": {
      "displayName": "Ricardo Andres Meriño De Moya",
      "photoUrl": "",
      "userId": "16051932377481611457"
     },
     "user_tz": 300
    },
    "id": "Mmh3WBQzKsh0",
    "outputId": "be371c9c-2ce8-4db8-83ba-9940f9e6a31f"
   },
   "outputs": [
    {
     "data": {
      "text/plain": [
       "['Brazil',\n",
       " 'Canada',\n",
       " 'Italy',\n",
       " 'USA',\n",
       " 'France',\n",
       " 'Morocco',\n",
       " 'Switzerland',\n",
       " 'Argentina',\n",
       " 'Jamaica',\n",
       " 'Australia',\n",
       " 'England',\n",
       " 'Tunisia',\n",
       " 'Egypt',\n",
       " 'Germany',\n",
       " 'Greece']"
      ]
     },
     "execution_count": 3,
     "metadata": {},
     "output_type": "execute_result"
    }
   ],
   "source": [
    "# Look at the keys...\n",
    "list(success_estimates.keys())"
   ]
  },
  {
   "cell_type": "code",
   "execution_count": 4,
   "metadata": {
    "colab": {
     "base_uri": "https://localhost:8080/",
     "height": 510
    },
    "colab_type": "code",
    "executionInfo": {
     "elapsed": 27350,
     "status": "ok",
     "timestamp": 1581172886945,
     "user": {
      "displayName": "Ricardo Andres Meriño De Moya",
      "photoUrl": "",
      "userId": "16051932377481611457"
     },
     "user_tz": 300
    },
    "id": "3Qg7OyUQKsh3",
    "outputId": "f65bc137-8a72-4f81-95e8-519fefe97ccf"
   },
   "outputs": [
    {
     "data": {
      "text/plain": [
       "[[0.22, 0.22, 0.43],\n",
       " [0.25, 0.3],\n",
       " [0.6],\n",
       " [0.2, 0.5, 0.3],\n",
       " [0.66, 0.78, 0.98, 0.2],\n",
       " [0.29],\n",
       " [0.73, 0.86, 0.84, 0.51, 0.99],\n",
       " [0.22],\n",
       " [0.61, 0.65, 0.71],\n",
       " [0.6, 0.33, 0.11, 0.14],\n",
       " [0.45],\n",
       " [0.68, 0.56],\n",
       " [0.99],\n",
       " [0.45, 0.49, 0.36],\n",
       " [0.45, 0.66, 0.75, 0.99, 0.15, 0.66]]"
      ]
     },
     "execution_count": 4,
     "metadata": {},
     "output_type": "execute_result"
    }
   ],
   "source": [
    "# ...and their corresponding values\n",
    "list(success_estimates.values())"
   ]
  },
  {
   "cell_type": "markdown",
   "metadata": {
    "colab_type": "text",
    "id": "aiypXvPMKsh7"
   },
   "source": [
    "We will make use of the access to keys and values of a dictionary later in the case when comparing across numerous countries' estimates. For now, just remember that you can access a dictionary's full list of keys or values simply by calling built-in methods."
   ]
  },
  {
   "cell_type": "markdown",
   "metadata": {
    "colab_type": "text",
    "id": "GDf3wLADKsh8"
   },
   "source": [
    "We'd also like to check if a country name is one the keys in the dictionary. Python allows us to check if a key is in a dictionary through the use of the ```in``` keyword. The statement ```key in dictionary``` will return a <b>boolean type</b> of ```True``` if the key is one of the keys in the dictionary and ```False``` otherwise. Let's take a look at how this works."
   ]
  },
  {
   "cell_type": "code",
   "execution_count": 5,
   "metadata": {
    "colab": {
     "base_uri": "https://localhost:8080/",
     "height": 85
    },
    "colab_type": "code",
    "executionInfo": {
     "elapsed": 1301,
     "status": "ok",
     "timestamp": 1581172890009,
     "user": {
      "displayName": "Ricardo Andres Meriño De Moya",
      "photoUrl": "",
      "userId": "16051932377481611457"
     },
     "user_tz": 300
    },
    "id": "iBtejROWKsh8",
    "outputId": "1902d5fe-5435-41b1-87a1-4bd70b000153"
   },
   "outputs": [
    {
     "name": "stdout",
     "output_type": "stream",
     "text": [
      "Checking if Morocco key is present:\n",
      "True\n",
      "Checking if Japan key is present:\n",
      "False\n"
     ]
    }
   ],
   "source": [
    "print('Checking if Morocco key is present:')\n",
    "print('Morocco' in success_estimates)\n",
    "\n",
    "print('Checking if Japan key is present:')\n",
    "print('Japan' in success_estimates)"
   ]
  },
  {
   "cell_type": "markdown",
   "metadata": {
    "colab_type": "text",
    "id": "pGMkeH7yKsiA"
   },
   "source": [
    "We'd now like to access the value corresponding to a specific key in the ```success_estimates``` dictionary. Simply type the value name in square brackets adjacent to the dictionary name. For example, ```success_estimates['Jamaica']``` will return Jamaica's list of estimates:"
   ]
  },
  {
   "cell_type": "code",
   "execution_count": 6,
   "metadata": {
    "colab": {
     "base_uri": "https://localhost:8080/",
     "height": 34
    },
    "colab_type": "code",
    "executionInfo": {
     "elapsed": 1413,
     "status": "ok",
     "timestamp": 1581172897182,
     "user": {
      "displayName": "Ricardo Andres Meriño De Moya",
      "photoUrl": "",
      "userId": "16051932377481611457"
     },
     "user_tz": 300
    },
    "id": "T-TPTEW3KsiB",
    "outputId": "8c5aacd6-58c5-4fb9-8db3-6c226daedd1b"
   },
   "outputs": [
    {
     "data": {
      "text/plain": [
       "[0.61, 0.65, 0.71]"
      ]
     },
     "execution_count": 6,
     "metadata": {},
     "output_type": "execute_result"
    }
   ],
   "source": [
    "success_estimates['Jamaica'] "
   ]
  },
  {
   "cell_type": "markdown",
   "metadata": {
    "colab_type": "text",
    "id": "MhbMfpWIKsiD"
   },
   "source": [
    "If you would like to store the result in a variable to be used later, use the assignment operator ```'='```:"
   ]
  },
  {
   "cell_type": "code",
   "execution_count": 7,
   "metadata": {
    "colab": {},
    "colab_type": "code",
    "id": "qvO-_g_6KsiE"
   },
   "outputs": [],
   "source": [
    "jamaica_list = success_estimates['Jamaica'] "
   ]
  },
  {
   "cell_type": "markdown",
   "metadata": {
    "colab_type": "text",
    "id": "CQ_wy8fhKsiI"
   },
   "source": [
    "You can then view the contents of the list via the ```print()``` method:"
   ]
  },
  {
   "cell_type": "code",
   "execution_count": 8,
   "metadata": {
    "colab": {
     "base_uri": "https://localhost:8080/",
     "height": 34
    },
    "colab_type": "code",
    "executionInfo": {
     "elapsed": 697,
     "status": "ok",
     "timestamp": 1581172901142,
     "user": {
      "displayName": "Ricardo Andres Meriño De Moya",
      "photoUrl": "",
      "userId": "16051932377481611457"
     },
     "user_tz": 300
    },
    "id": "BZYtt-8-KsiJ",
    "outputId": "4ac9185e-0053-4b3f-8741-b02ea9e88620"
   },
   "outputs": [
    {
     "name": "stdout",
     "output_type": "stream",
     "text": [
      "[0.61, 0.65, 0.71]\n"
     ]
    }
   ],
   "source": [
    "print(jamaica_list)"
   ]
  },
  {
   "cell_type": "markdown",
   "metadata": {
    "colab_type": "text",
    "id": "XlLPQJ_YKsiN"
   },
   "source": [
    "Here, you'll see that the order of the elements in the Jamaica list is the same as what was originally defined above. This is because lists are ordered objects. In fact, you can access elements of a list by an <i>index</i>. In Python, indices start at 0 (for the first element of a given list) and increment by 1 for each successive element. For example, let's print each element of the Jamaica list:"
   ]
  },
  {
   "cell_type": "code",
   "execution_count": 9,
   "metadata": {
    "colab": {
     "base_uri": "https://localhost:8080/",
     "height": 68
    },
    "colab_type": "code",
    "executionInfo": {
     "elapsed": 5926,
     "status": "ok",
     "timestamp": 1581172911437,
     "user": {
      "displayName": "Ricardo Andres Meriño De Moya",
      "photoUrl": "",
      "userId": "16051932377481611457"
     },
     "user_tz": 300
    },
    "id": "bqaY_tBGKsiO",
    "outputId": "42ec7c30-142c-451e-fc2d-3c472305cd3d"
   },
   "outputs": [
    {
     "name": "stdout",
     "output_type": "stream",
     "text": [
      "0.61\n",
      "0.65\n",
      "0.71\n"
     ]
    }
   ],
   "source": [
    "# Each successive print statement will print on a new line\n",
    "print(jamaica_list[0]) # prints the first element of the list\n",
    "print(jamaica_list[1]) # prints the second element of the list\n",
    "print(jamaica_list[2]) # prints the third element of the list"
   ]
  },
  {
   "cell_type": "markdown",
   "metadata": {
    "colab_type": "text",
    "id": "vaDkP1OJKsiS"
   },
   "source": [
    "Python also offers a simple way to determine the length of a list: the ```len()``` method. We expect the length of ```jamaica_list``` to be 3 since it has three elements:"
   ]
  },
  {
   "cell_type": "code",
   "execution_count": 10,
   "metadata": {
    "colab": {
     "base_uri": "https://localhost:8080/",
     "height": 34
    },
    "colab_type": "code",
    "executionInfo": {
     "elapsed": 766,
     "status": "ok",
     "timestamp": 1581172912803,
     "user": {
      "displayName": "Ricardo Andres Meriño De Moya",
      "photoUrl": "",
      "userId": "16051932377481611457"
     },
     "user_tz": 300
    },
    "id": "W_ca_bgAKsiT",
    "outputId": "cd8924f8-04a9-459e-8300-44e7e51cd4c6",
    "scrolled": true
   },
   "outputs": [
    {
     "data": {
      "text/plain": [
       "3"
      ]
     },
     "execution_count": 10,
     "metadata": {},
     "output_type": "execute_result"
    }
   ],
   "source": [
    "len(jamaica_list) # returns the length of the list"
   ]
  },
  {
   "cell_type": "markdown",
   "metadata": {
    "colab_type": "text",
    "id": "CG9GySsVKsiW"
   },
   "source": [
    "### Exercise 1:\n",
    "\n",
    "Print the length of the success estimate lists for France, Greece, and Morocco."
   ]
  },
  {
   "cell_type": "code",
   "execution_count": 11,
   "metadata": {
    "colab": {
     "base_uri": "https://localhost:8080/",
     "height": 68
    },
    "colab_type": "code",
    "executionInfo": {
     "elapsed": 1099,
     "status": "ok",
     "timestamp": 1581173034008,
     "user": {
      "displayName": "Ricardo Andres Meriño De Moya",
      "photoUrl": "",
      "userId": "16051932377481611457"
     },
     "user_tz": 300
    },
    "id": "s2E_jk8IOIvu",
    "outputId": "a2bef8be-6a8e-4c72-d8cb-c30e99ebdbf4"
   },
   "outputs": [
    {
     "name": "stdout",
     "output_type": "stream",
     "text": [
      "Para el pais Brazil el tamano es 3\n",
      "Para el pais Canada el tamano es 2\n",
      "Para el pais Italy el tamano es 1\n",
      "Para el pais USA el tamano es 3\n",
      "Para el pais France el tamano es 4\n",
      "Para el pais Morocco el tamano es 1\n",
      "Para el pais Switzerland el tamano es 5\n",
      "Para el pais Argentina el tamano es 1\n",
      "Para el pais Jamaica el tamano es 3\n",
      "Para el pais Australia el tamano es 4\n",
      "Para el pais England el tamano es 1\n",
      "Para el pais Tunisia el tamano es 2\n",
      "Para el pais Egypt el tamano es 1\n",
      "Para el pais Germany el tamano es 3\n",
      "Para el pais Greece el tamano es 6\n"
     ]
    }
   ],
   "source": [
    "for key,val in success_estimates.items():\n",
    "    print('Para el pais '+ key + ' el tamano es ' + str(len(val)))"
   ]
  },
  {
   "cell_type": "markdown",
   "metadata": {
    "colab_type": "text",
    "id": "HkfyyuMUKsiX"
   },
   "source": [
    "### Exercise 2:\n",
    "\n",
    "Which of the following would be useful to store project success estimates if they were available at a regional level instead of a country level?\n",
    "\n",
    "(a) List\n",
    "\n",
    "(b) Dictionary\n",
    "\n",
    "(c) Float\n",
    "\n",
    "(d) String\n"
   ]
  },
  {
   "cell_type": "markdown",
   "metadata": {
    "colab_type": "text",
    "id": "OQVHrxPGKsiY"
   },
   "source": [
    "Now that we're familiar with using lists and know that lists are ordered data structures while dictionaries are unordered data structures, let's begin to compare success estimates across countries."
   ]
  },
  {
   "cell_type": "markdown",
   "metadata": {
    "colab_type": "text",
    "id": "CkyMruYLKsib"
   },
   "source": [
    "## Calculating a country-specific average success estimate"
   ]
  },
  {
   "cell_type": "markdown",
   "metadata": {
    "colab_type": "text",
    "id": "lqLFCbF-Ksic"
   },
   "source": [
    "Continuing our analysis on Jamaica, the list contains three numbers, [0.61, 0.65, 0.71]. Recall these number are of type ```float``` in Python, which stores numeric decimal values. One logical way to summarize these estimates so that they can be compared across countries is to use the arithmetic average. Let's use basic arthimetic operators to calculate the average success estimate for Jamaica, storing the result in a new variable ```avg_jamaica```:"
   ]
  },
  {
   "cell_type": "code",
   "execution_count": 12,
   "metadata": {
    "colab": {
     "base_uri": "https://localhost:8080/",
     "height": 34
    },
    "colab_type": "code",
    "executionInfo": {
     "elapsed": 3055,
     "status": "ok",
     "timestamp": 1581173262085,
     "user": {
      "displayName": "Ricardo Andres Meriño De Moya",
      "photoUrl": "",
      "userId": "16051932377481611457"
     },
     "user_tz": 300
    },
    "id": "3NDSs6HGKsid",
    "outputId": "58ef8aff-0606-425b-fc2a-167a0b4d1785"
   },
   "outputs": [
    {
     "name": "stdout",
     "output_type": "stream",
     "text": [
      "0.656666666667\n"
     ]
    }
   ],
   "source": [
    "avg_jamaica = (0.61 + 0.65 + 0.71) / 3\n",
    "print(avg_jamaica)"
   ]
  },
  {
   "cell_type": "markdown",
   "metadata": {
    "colab_type": "text",
    "id": "yTr4FEvAKsif"
   },
   "source": [
    "We see the average probability of success estimate for Jamaica is approximately 0.657.  However, we produced this estimate by hand-coding the values. If we were to do this for every country, it would take quite a long time. So we'd like to use a more automated way of producing the average."
   ]
  },
  {
   "cell_type": "markdown",
   "metadata": {
    "colab_type": "text",
    "id": "MYVeh6QyKsig"
   },
   "source": [
    "To produce an average we can utilize a <b>function</b>. Functions operate on data and variables in Python to perform a desired action. Functions may have both <b>inputs</b> and <b>outputs</b>, just like familiar mathematical operators like addition, subtraction, multiplication, and division (which each have two inputs and one output). While functions in Python may still be for a mathematical purpose, such as squaring an integer, Python allows for more abstract function behaviour, such as printing to the screen. In this case, the ```print()``` function will print its input to the screen."
   ]
  },
  {
   "cell_type": "markdown",
   "metadata": {
    "colab_type": "text",
    "id": "iXVOfBYHKsih"
   },
   "source": [
    "Let's use Python's built-in mathematical functions ```sum()```, ```min()```, and ```max()``` to calculate Jamaica's average success estimate, minimum success estimate, and maximum success estimate, respectively:"
   ]
  },
  {
   "cell_type": "code",
   "execution_count": 13,
   "metadata": {
    "colab": {
     "base_uri": "https://localhost:8080/",
     "height": 34
    },
    "colab_type": "code",
    "executionInfo": {
     "elapsed": 1224,
     "status": "ok",
     "timestamp": 1581173352456,
     "user": {
      "displayName": "Ricardo Andres Meriño De Moya",
      "photoUrl": "",
      "userId": "16051932377481611457"
     },
     "user_tz": 300
    },
    "id": "QBLKpJyFKsih",
    "outputId": "980b4f36-7104-4ac8-dc7c-a56a1ddd0dfe",
    "scrolled": true
   },
   "outputs": [
    {
     "name": "stdout",
     "output_type": "stream",
     "text": [
      "[0.61, 0.65, 0.71]\n"
     ]
    }
   ],
   "source": [
    "country_name = 'Jamaica'\n",
    "jamaica_list = success_estimates[country_name] # list of the estimates for Jamaica\n",
    "print(jamaica_list)"
   ]
  },
  {
   "cell_type": "code",
   "execution_count": 14,
   "metadata": {
    "colab": {
     "base_uri": "https://localhost:8080/",
     "height": 68
    },
    "colab_type": "code",
    "executionInfo": {
     "elapsed": 1406,
     "status": "ok",
     "timestamp": 1581173098824,
     "user": {
      "displayName": "Ricardo Andres Meriño De Moya",
      "photoUrl": "",
      "userId": "16051932377481611457"
     },
     "user_tz": 300
    },
    "id": "sYXd0QEZKsik",
    "outputId": "c0dc65ef-5393-461f-8a4f-73ae16c12039"
   },
   "outputs": [
    {
     "name": "stdout",
     "output_type": "stream",
     "text": [
      "('Country:', 'Jamaica', ', Average:', 0.6566666666666666)\n",
      "('Country:', 'Jamaica', ', Min:', 0.61)\n",
      "('Country:', 'Jamaica', ', Max:', 0.71)\n"
     ]
    }
   ],
   "source": [
    "avg_jamaica = sum(jamaica_list) / len(jamaica_list)\n",
    "min_jamaica = min(jamaica_list)\n",
    "max_jamaica = max(jamaica_list)\n",
    "print(\"Country:\",country_name,\", Average:\",avg_jamaica)\n",
    "print(\"Country:\",country_name,\", Min:\",min_jamaica)\n",
    "print(\"Country:\",country_name,\", Max:\",max_jamaica)"
   ]
  },
  {
   "cell_type": "markdown",
   "metadata": {
    "colab_type": "text",
    "id": "bhjCCTK4Ksim"
   },
   "source": [
    "As expected, we get the same average result of approximately 0.657. Note that we could also have rounded the results to two decimal places using the ```round()``` method. This can improve readability."
   ]
  },
  {
   "cell_type": "code",
   "execution_count": 15,
   "metadata": {
    "colab": {
     "base_uri": "https://localhost:8080/",
     "height": 68
    },
    "colab_type": "code",
    "executionInfo": {
     "elapsed": 1700,
     "status": "ok",
     "timestamp": 1581173106314,
     "user": {
      "displayName": "Ricardo Andres Meriño De Moya",
      "photoUrl": "",
      "userId": "16051932377481611457"
     },
     "user_tz": 300
    },
    "id": "HDH0KASmKsin",
    "outputId": "745e9935-0087-4ca0-a09a-be09fef13c8f"
   },
   "outputs": [
    {
     "name": "stdout",
     "output_type": "stream",
     "text": [
      "('Country:', 'Jamaica', ', Average:', 0.66)\n",
      "('Country:', 'Jamaica', ', Min:', 0.61)\n",
      "('Country:', 'Jamaica', ', Max:', 0.71)\n"
     ]
    }
   ],
   "source": [
    "avg_jamaica = round(sum(jamaica_list) / len(jamaica_list),2)\n",
    "min_jamaica = round(min(jamaica_list),2)\n",
    "max_jamaica = round(max(jamaica_list),2)\n",
    "print(\"Country:\",country_name,\", Average:\",avg_jamaica)\n",
    "print(\"Country:\",country_name,\", Min:\",min_jamaica)\n",
    "print(\"Country:\",country_name,\", Max:\",max_jamaica)"
   ]
  },
  {
   "cell_type": "markdown",
   "metadata": {
    "colab_type": "text",
    "id": "CwjIa8G8Ksiq"
   },
   "source": [
    "Functions in Python are a very powerful tool to increase productivity and perform more complex tasks."
   ]
  },
  {
   "cell_type": "markdown",
   "metadata": {
    "colab_type": "text",
    "id": "SXpYkIu1Ksir"
   },
   "source": [
    "### Exercise 3:\n",
    "\n",
    "Write a script to calculate the average success for every country. Output (using ```print()```) each country's average success estimate to the screen. The print statements should output each country on a new line, for example:\n",
    "```\n",
    "Country: France , Average: 0.655\n",
    "Country: Brazil , Average: 0.29\n",
    "```"
   ]
  },
  {
   "cell_type": "code",
   "execution_count": 16,
   "metadata": {
    "colab": {
     "base_uri": "https://localhost:8080/",
     "height": 34
    },
    "colab_type": "code",
    "executionInfo": {
     "elapsed": 1466,
     "status": "ok",
     "timestamp": 1581173490200,
     "user": {
      "displayName": "Ricardo Andres Meriño De Moya",
      "photoUrl": "",
      "userId": "16051932377481611457"
     },
     "user_tz": 300
    },
    "id": "pldDC2utQk5J",
    "outputId": "3f11c933-c5cc-4ed6-902b-422979d5c96b"
   },
   "outputs": [
    {
     "name": "stdout",
     "output_type": "stream",
     "text": [
      "para el pais Brazil el promedio es 0.29\n",
      "para el pais Canada el promedio es 0.28\n",
      "para el pais Italy el promedio es 0.6\n",
      "para el pais USA el promedio es 0.33\n",
      "para el pais France el promedio es 0.66\n",
      "para el pais Morocco el promedio es 0.29\n",
      "para el pais Switzerland el promedio es 0.79\n",
      "para el pais Argentina el promedio es 0.22\n",
      "para el pais Jamaica el promedio es 0.66\n",
      "para el pais Australia el promedio es 0.3\n",
      "para el pais England el promedio es 0.45\n",
      "para el pais Tunisia el promedio es 0.62\n",
      "para el pais Egypt el promedio es 0.99\n",
      "para el pais Germany el promedio es 0.43\n",
      "para el pais Greece el promedio es 0.61\n"
     ]
    }
   ],
   "source": [
    "for k,v in success_estimates.items():\n",
    "    prom= sum(v)/len(v)\n",
    "    print('para el pais ' +k +' el promedio es '+ str(round(prom,2)))"
   ]
  },
  {
   "cell_type": "markdown",
   "metadata": {
    "colab_type": "text",
    "id": "568nNnd7Ksir"
   },
   "source": [
    "## Systematically determine the average success estimate for all of the countries"
   ]
  },
  {
   "cell_type": "markdown",
   "metadata": {
    "colab_type": "text",
    "id": "lLAB_GvDKsis"
   },
   "source": [
    "The end goal of this analysis is a recommendation for where global expansion opportunities should be considered. To reach a conclusion, it'd be ideal to have the average success probability for each country.\n",
    "\n",
    "To achieve this, we will use a control flow element in Python -  the <b>for loop</b>.  The ```for``` loop allows one to execute the same statements over and over again (i.e. looping). This saves a significant amount of time coding repetitive tasks and aids in code readability.  The general structure of a for loop is:\n",
    "\n",
    "```python\n",
    "for iterator_variable in some_sequence:\n",
    "    statements(s)\n",
    "```\n",
    "\n",
    "The for loop iterates over ```some_sequence``` and performs ```statements(s)``` at each iteration. That is, at each iteration the ```iterator_variable```  is updated to the next value in ```some_sequence```. As a concrete example, consider the loop:\n",
    "\n",
    "```python\n",
    "for i in [1,2,3,4]:\n",
    "    print(i*i)\n",
    "```\n",
    "\n",
    "Here, the for loop will print to the screen four times; that is it will print ```1``` on the first iteration of the loop, ```4``` on the second iteration, ```9``` on the third, and ```16``` on the fourth. Hence, the for loop statement will iterate over all the elements of the list ```[1,2,3,4]```, and at each iteration it updates the iterator variable ```i``` to the next value in the list ```[1,2,3,4]```.\n",
    "\n",
    "Let's use a for loop on our country data by getting a list of all the keys in ```success_estimates```:"
   ]
  },
  {
   "cell_type": "code",
   "execution_count": 17,
   "metadata": {
    "colab": {},
    "colab_type": "code",
    "id": "ISNfsTQBKsit",
    "outputId": "beb49926-7bc0-44c6-884c-89d4fc5944d6"
   },
   "outputs": [
    {
     "name": "stdout",
     "output_type": "stream",
     "text": [
      "['Brazil', 'Canada', 'Italy', 'USA', 'France', 'Morocco', 'Switzerland', 'Argentina', 'Jamaica', 'Australia', 'England', 'Tunisia', 'Egypt', 'Germany', 'Greece']\n"
     ]
    }
   ],
   "source": [
    "# Get all the keys from the success_estimates dictionary\n",
    "country_name_list = list(success_estimates.keys())\n",
    "print(country_name_list)"
   ]
  },
  {
   "cell_type": "markdown",
   "metadata": {
    "colab_type": "text",
    "id": "v6Owr1P_Ksiv"
   },
   "source": [
    "Here we loop through all the elements in ```country_name_list```, extract the corresponding value from ```success_estimates``` (which will be of type list), and subsequently take the mean of the list. Detailed printing will guide you through the for loop execution."
   ]
  },
  {
   "cell_type": "code",
   "execution_count": 18,
   "metadata": {
    "colab": {},
    "colab_type": "code",
    "id": "4tR3Hpa6Ksiw",
    "outputId": "1321c1b9-bc97-4ad9-c361-5987e753a7c3",
    "scrolled": false
   },
   "outputs": [
    {
     "name": "stdout",
     "output_type": "stream",
     "text": [
      "--Begin one iteration of loop--\n",
      "Element of country_name_list, placeholder i = Brazil\n",
      "('Access value from dict success_estimates[i]: ', [0.22, 0.22, 0.43])\n",
      "('Average of list from success_estimates[i]: ', 0.29)\n",
      "--Go to next iteration of loop--\n",
      "--Begin one iteration of loop--\n",
      "Element of country_name_list, placeholder i = Canada\n",
      "('Access value from dict success_estimates[i]: ', [0.25, 0.3])\n",
      "('Average of list from success_estimates[i]: ', 0.275)\n",
      "--Go to next iteration of loop--\n",
      "--Begin one iteration of loop--\n",
      "Element of country_name_list, placeholder i = Italy\n",
      "('Access value from dict success_estimates[i]: ', [0.6])\n",
      "('Average of list from success_estimates[i]: ', 0.6)\n",
      "--Go to next iteration of loop--\n",
      "--Begin one iteration of loop--\n",
      "Element of country_name_list, placeholder i = USA\n",
      "('Access value from dict success_estimates[i]: ', [0.2, 0.5, 0.3])\n",
      "('Average of list from success_estimates[i]: ', 0.3333333333333333)\n",
      "--Go to next iteration of loop--\n",
      "--Begin one iteration of loop--\n",
      "Element of country_name_list, placeholder i = France\n",
      "('Access value from dict success_estimates[i]: ', [0.66, 0.78, 0.98, 0.2])\n",
      "('Average of list from success_estimates[i]: ', 0.655)\n",
      "--Go to next iteration of loop--\n",
      "--Begin one iteration of loop--\n",
      "Element of country_name_list, placeholder i = Morocco\n",
      "('Access value from dict success_estimates[i]: ', [0.29])\n",
      "('Average of list from success_estimates[i]: ', 0.29)\n",
      "--Go to next iteration of loop--\n",
      "--Begin one iteration of loop--\n",
      "Element of country_name_list, placeholder i = Switzerland\n",
      "('Access value from dict success_estimates[i]: ', [0.73, 0.86, 0.84, 0.51, 0.99])\n",
      "('Average of list from success_estimates[i]: ', 0.7859999999999999)\n",
      "--Go to next iteration of loop--\n",
      "--Begin one iteration of loop--\n",
      "Element of country_name_list, placeholder i = Argentina\n",
      "('Access value from dict success_estimates[i]: ', [0.22])\n",
      "('Average of list from success_estimates[i]: ', 0.22)\n",
      "--Go to next iteration of loop--\n",
      "--Begin one iteration of loop--\n",
      "Element of country_name_list, placeholder i = Jamaica\n",
      "('Access value from dict success_estimates[i]: ', [0.61, 0.65, 0.71])\n",
      "('Average of list from success_estimates[i]: ', 0.6566666666666666)\n",
      "--Go to next iteration of loop--\n",
      "--Begin one iteration of loop--\n",
      "Element of country_name_list, placeholder i = Australia\n",
      "('Access value from dict success_estimates[i]: ', [0.6, 0.33, 0.11, 0.14])\n",
      "('Average of list from success_estimates[i]: ', 0.29500000000000004)\n",
      "--Go to next iteration of loop--\n",
      "--Begin one iteration of loop--\n",
      "Element of country_name_list, placeholder i = England\n",
      "('Access value from dict success_estimates[i]: ', [0.45])\n",
      "('Average of list from success_estimates[i]: ', 0.45)\n",
      "--Go to next iteration of loop--\n",
      "--Begin one iteration of loop--\n",
      "Element of country_name_list, placeholder i = Tunisia\n",
      "('Access value from dict success_estimates[i]: ', [0.68, 0.56])\n",
      "('Average of list from success_estimates[i]: ', 0.6200000000000001)\n",
      "--Go to next iteration of loop--\n",
      "--Begin one iteration of loop--\n",
      "Element of country_name_list, placeholder i = Egypt\n",
      "('Access value from dict success_estimates[i]: ', [0.99])\n",
      "('Average of list from success_estimates[i]: ', 0.99)\n",
      "--Go to next iteration of loop--\n",
      "--Begin one iteration of loop--\n",
      "Element of country_name_list, placeholder i = Germany\n",
      "('Access value from dict success_estimates[i]: ', [0.45, 0.49, 0.36])\n",
      "('Average of list from success_estimates[i]: ', 0.4333333333333333)\n",
      "--Go to next iteration of loop--\n",
      "--Begin one iteration of loop--\n",
      "Element of country_name_list, placeholder i = Greece\n",
      "('Access value from dict success_estimates[i]: ', [0.45, 0.66, 0.75, 0.99, 0.15, 0.66])\n",
      "('Average of list from success_estimates[i]: ', 0.61)\n",
      "--Go to next iteration of loop--\n"
     ]
    }
   ],
   "source": [
    "# Loop through all countries and calculate their mean success estimate\n",
    "for i in country_name_list:\n",
    "    print('--Begin one iteration of loop--')\n",
    "    print('Element of country_name_list, placeholder i = ' + i)\n",
    "    print('Access value from dict success_estimates[i]: ', success_estimates[i])\n",
    "    print('Average of list from success_estimates[i]: ', sum(success_estimates[i]) / len(success_estimates[i]))\n",
    "    print('--Go to next iteration of loop--')"
   ]
  },
  {
   "cell_type": "markdown",
   "metadata": {
    "colab_type": "text",
    "id": "N5GrracuKsiz"
   },
   "source": [
    "Let's take a closer look at the above ```for``` loop. The ```country_name_list``` has 15 countries which the ```for``` loop is iterating over. The ```for``` loop uses a placeholder variable, denoted ```i``` in this case, to store the element of ```country_name_list``` that each loop iteration corresponds to. Namely, for the first iteration of the ```for``` loop, ```i = 'Brazil'```. For the second iteration, ```i = 'Canada'```. And so on until the loop reaches the final element of ```country_name_list```, which it then completes and exits the looping process.\n",
    "\n",
    "Why is this looping process useful? Well, we've performed the same calculation statements 15 times while only writing the code once! Notice that for each iteration, the corresponding value from ```success_estimates``` is accessed, and the mean of the returned list is calculated. The ```for``` loop process also enhances code readability."
   ]
  },
  {
   "cell_type": "markdown",
   "metadata": {
    "colab_type": "text",
    "id": "mkDR7YaaKsi0"
   },
   "source": [
    "### Exercise 4:\n",
    "\n",
    "Write a for loop to instead calculate the minimum and maximum of each country's list of success estimates, printing each out consecutively as in the for loop example above."
   ]
  },
  {
   "cell_type": "code",
   "execution_count": 19,
   "metadata": {},
   "outputs": [
    {
     "name": "stdout",
     "output_type": "stream",
     "text": [
      "--Begin one iteration of loop--\n",
      "Para el pais Brazil El minimo es 0.22 El maximo es 0.43\n",
      "--Begin one iteration of loop--\n",
      "Para el pais Canada El minimo es 0.25 El maximo es 0.3\n",
      "--Begin one iteration of loop--\n",
      "Para el pais Italy El minimo es 0.6 El maximo es 0.6\n",
      "--Begin one iteration of loop--\n",
      "Para el pais USA El minimo es 0.2 El maximo es 0.5\n",
      "--Begin one iteration of loop--\n",
      "Para el pais France El minimo es 0.2 El maximo es 0.98\n",
      "--Begin one iteration of loop--\n",
      "Para el pais Morocco El minimo es 0.29 El maximo es 0.29\n",
      "--Begin one iteration of loop--\n",
      "Para el pais Switzerland El minimo es 0.51 El maximo es 0.99\n",
      "--Begin one iteration of loop--\n",
      "Para el pais Argentina El minimo es 0.22 El maximo es 0.22\n",
      "--Begin one iteration of loop--\n",
      "Para el pais Jamaica El minimo es 0.61 El maximo es 0.71\n",
      "--Begin one iteration of loop--\n",
      "Para el pais Australia El minimo es 0.11 El maximo es 0.6\n",
      "--Begin one iteration of loop--\n",
      "Para el pais England El minimo es 0.45 El maximo es 0.45\n",
      "--Begin one iteration of loop--\n",
      "Para el pais Tunisia El minimo es 0.56 El maximo es 0.68\n",
      "--Begin one iteration of loop--\n",
      "Para el pais Egypt El minimo es 0.99 El maximo es 0.99\n",
      "--Begin one iteration of loop--\n",
      "Para el pais Germany El minimo es 0.36 El maximo es 0.49\n",
      "--Begin one iteration of loop--\n",
      "Para el pais Greece El minimo es 0.15 El maximo es 0.99\n"
     ]
    }
   ],
   "source": [
    "for k,v in success_estimates.items():\n",
    "    print('--Begin one iteration of loop--')\n",
    "    print('Para el pais '+ k +' El minimo es '+ str(min(v))+' '+ 'El maximo es '+ str(max(v)))\n"
   ]
  },
  {
   "cell_type": "markdown",
   "metadata": {
    "colab_type": "text",
    "id": "eTUQdyE8Ksi0"
   },
   "source": [
    "### Exercise 5:\n",
    "\n",
    "Using the for loop, write code to determine the country with the largest range of success estimates (that is, the largest difference between the smallest and largest estimate for a country)."
   ]
  },
  {
   "cell_type": "code",
   "execution_count": 20,
   "metadata": {},
   "outputs": [
    {
     "name": "stdout",
     "output_type": "stream",
     "text": [
      "El pais con maximo rango de estimación de exitos es USA Con valor de 0.3\n"
     ]
    }
   ],
   "source": [
    "range_dic ={}\n",
    "for k,v in success_estimates.items():\n",
    "    c =  max(v)-min(v)\n",
    "    range_dic[k]=c\n",
    "print('El pais con maximo rango de estimación de exitos es '+ max(range_dic)+' Con valor de ' + str(range_dic[max(range_dic)]))\n"
   ]
  },
  {
   "cell_type": "markdown",
   "metadata": {
    "colab_type": "text",
    "id": "UV0SgvjgKsi1"
   },
   "source": [
    "## Using list comprehensions to determine the number of estimates for each country"
   ]
  },
  {
   "cell_type": "markdown",
   "metadata": {
    "colab_type": "text",
    "id": "VtogGuwYKsi2"
   },
   "source": [
    "Moving forward, we are interested in knowing the number of success estimates available for each country. Python offers a concise way to achieve this goal through the use of <b>list comprehensions</b>.\n",
    "\n",
    "List comprehensions allow one to concisely build a list. Let's take a look at how this works."
   ]
  },
  {
   "cell_type": "code",
   "execution_count": 21,
   "metadata": {
    "colab": {
     "base_uri": "https://localhost:8080/",
     "height": 272
    },
    "colab_type": "code",
    "executionInfo": {
     "elapsed": 1462,
     "status": "ok",
     "timestamp": 1581173962769,
     "user": {
      "displayName": "Ricardo Andres Meriño De Moya",
      "photoUrl": "",
      "userId": "16051932377481611457"
     },
     "user_tz": 300
    },
    "id": "5RIYTW_DKsi3",
    "outputId": "403b5890-127e-4a18-b846-5903c3938c2b"
   },
   "outputs": [
    {
     "data": {
      "text/plain": [
       "['Brazil',\n",
       " 'Canada',\n",
       " 'Italy',\n",
       " 'USA',\n",
       " 'France',\n",
       " 'Morocco',\n",
       " 'Switzerland',\n",
       " 'Argentina',\n",
       " 'Jamaica',\n",
       " 'Australia',\n",
       " 'England',\n",
       " 'Tunisia',\n",
       " 'Egypt',\n",
       " 'Germany',\n",
       " 'Greece']"
      ]
     },
     "execution_count": 21,
     "metadata": {},
     "output_type": "execute_result"
    }
   ],
   "source": [
    "key_name_list = [i for i in success_estimates] # loop over each item i in success_estimates and put i in the list\n",
    "key_name_list"
   ]
  },
  {
   "cell_type": "markdown",
   "metadata": {
    "colab_type": "text",
    "id": "uorWSlQMKsi6"
   },
   "source": [
    "Here we see that we've looped over each key of the dictionary success_estimates (hence each country), and extracted the country name, all in one line of code. We can also access the values of each key in success_estimates."
   ]
  },
  {
   "cell_type": "code",
   "execution_count": 22,
   "metadata": {
    "colab": {},
    "colab_type": "code",
    "id": "OcUVpp0vKsi7",
    "outputId": "dec51708-58ea-4c3b-ece9-e291a6dcba53"
   },
   "outputs": [
    {
     "data": {
      "text/plain": [
       "[[0.22, 0.22, 0.43],\n",
       " [0.25, 0.3],\n",
       " [0.6],\n",
       " [0.2, 0.5, 0.3],\n",
       " [0.66, 0.78, 0.98, 0.2],\n",
       " [0.29],\n",
       " [0.73, 0.86, 0.84, 0.51, 0.99],\n",
       " [0.22],\n",
       " [0.61, 0.65, 0.71],\n",
       " [0.6, 0.33, 0.11, 0.14],\n",
       " [0.45],\n",
       " [0.68, 0.56],\n",
       " [0.99],\n",
       " [0.45, 0.49, 0.36],\n",
       " [0.45, 0.66, 0.75, 0.99, 0.15, 0.66]]"
      ]
     },
     "execution_count": 22,
     "metadata": {},
     "output_type": "execute_result"
    }
   ],
   "source": [
    "value_name_list = [success_estimates[i] for i in success_estimates] # loop over each item i in success_estimates and put success_estimates[i] in the list\n",
    "value_name_list"
   ]
  },
  {
   "cell_type": "markdown",
   "metadata": {
    "colab_type": "text",
    "id": "qAorhuxuKsi-"
   },
   "source": [
    "In the list comprehension above, each value of ```i``` is a country name and the value is returned when ```success_estimates[i]``` is called. We see the list comprehension is an effective and concise way to write a for loop that creates a list.\n",
    "\n",
    "We can the use this to quickly determine how many success estimates are available for each country."
   ]
  },
  {
   "cell_type": "code",
   "execution_count": 26,
   "metadata": {
    "colab": {},
    "colab_type": "code",
    "id": "xr16Hm2nKsi-",
    "outputId": "3af33a7c-3513-4fd7-fbf3-8bb15ccce3f8"
   },
   "outputs": [
    {
     "data": {
      "text/plain": [
       "[['Brazil', 3],\n",
       " ['Canada', 2],\n",
       " ['Italy', 1],\n",
       " ['USA', 3],\n",
       " ['France', 4],\n",
       " ['Morocco', 1],\n",
       " ['Switzerland', 5],\n",
       " ['Argentina', 1],\n",
       " ['Jamaica', 3],\n",
       " ['Australia', 4],\n",
       " ['England', 1],\n",
       " ['Tunisia', 2],\n",
       " ['Egypt', 1],\n",
       " ['Germany', 3],\n",
       " ['Greece', 6]]"
      ]
     },
     "execution_count": 26,
     "metadata": {},
     "output_type": "execute_result"
    }
   ],
   "source": [
    "# Number of estimates available for each country\n",
    "[[i,len(success_estimates[i])]for i in success_estimates]"
   ]
  },
  {
   "cell_type": "markdown",
   "metadata": {
    "colab_type": "text",
    "id": "uBo8Eh7dKsjB"
   },
   "source": [
    "### Exercise 6:"
   ]
  },
  {
   "cell_type": "markdown",
   "metadata": {
    "colab_type": "text",
    "id": "lYMLlg-ZKsjC"
   },
   "source": [
    "Using list comprehensions, write a script to create a <b>list of lists</b> called ```sum_squares_list```, where each element of the list is a two-item list [country name, value]. The value item in the list should be the sum of squares of that country's success estimates. For example, one element of ```sum_squares_list``` should be for Jamaica, where the two-item list is [Jamaica, 1.2987] (since 1.2987 = 0.61^2 + 0.65^2 + 0.71^2)."
   ]
  },
  {
   "cell_type": "code",
   "execution_count": 40,
   "metadata": {},
   "outputs": [
    {
     "data": {
      "text/plain": [
       "[['Brazil', 0.28],\n",
       " ['Canada', 0.15],\n",
       " ['Italy', 0.36],\n",
       " ['USA', 0.38],\n",
       " ['France', 2.04],\n",
       " ['Morocco', 0.08],\n",
       " ['Switzerland', 3.22],\n",
       " ['Argentina', 0.05],\n",
       " ['Jamaica', 1.3],\n",
       " ['Australia', 0.5],\n",
       " ['England', 0.2],\n",
       " ['Tunisia', 0.78],\n",
       " ['Egypt', 0.98],\n",
       " ['Germany', 0.57],\n",
       " ['Greece', 2.64]]"
      ]
     },
     "execution_count": 40,
     "metadata": {},
     "output_type": "execute_result"
    }
   ],
   "source": [
    "[[i,round(sum([k*k for k in success_estimates[i]]),2)] for i in success_estimates]"
   ]
  },
  {
   "cell_type": "markdown",
   "metadata": {
    "colab_type": "text",
    "id": "3cuqlPUNKsjC"
   },
   "source": [
    "### Exercise 7:\n",
    "\n",
    "We'd like to determine the spread around the mean success estimate for each country. Using list comprehensions, write a script that subtracts the mean success estimate for a given country from each success estimate for that country. Store the results in a list named ```removed_mean_list```. Round values to two decimal places. Your output should produce the following list of lists:\n",
    "\n",
    "```\n",
    "[['Australia', [0.3, 0.03, -0.19, -0.16]],\n",
    " ['France', [0.01, 0.12, 0.32, -0.46]],\n",
    " ['Italy', [0.0]],\n",
    " ['Brazil', [-0.07, -0.07, 0.14]],\n",
    " ['USA', [-0.13, 0.17, -0.03]],\n",
    " ['England', [0.0]],\n",
    " ['Canada', [-0.03, 0.02]],\n",
    " ['Argentina', [0.0]],\n",
    " ['Greece', [-0.16, 0.05, 0.14, 0.38, -0.46, 0.05]],\n",
    " ['Morocco', [0.0]],\n",
    " ['Tunisia', [0.06, -0.06]],\n",
    " ['Egypt', [0.0]],\n",
    " ['Jamaica', [-0.05, -0.01, 0.05]],\n",
    " ['Switzerland', [-0.06, 0.07, 0.05, -0.28, 0.2]],\n",
    " ['Germany', [0.02, 0.06, -0.07]]]\n",
    "```"
   ]
  },
  {
   "cell_type": "code",
   "execution_count": 61,
   "metadata": {},
   "outputs": [
    {
     "data": {
      "text/plain": [
       "[['Brazil', [-0.07, -0.07, 0.14]],\n",
       " ['Canada', [-0.03, 0.02]],\n",
       " ['Italy', [0.0]],\n",
       " ['USA', [-0.13, 0.17, -0.03]],\n",
       " ['France', [0.01, 0.13, 0.32, -0.46]],\n",
       " ['Morocco', [0.0]],\n",
       " ['Switzerland', [-0.06, 0.07, 0.05, -0.28, 0.2]],\n",
       " ['Argentina', [0.0]],\n",
       " ['Jamaica', [-0.05, -0.01, 0.05]],\n",
       " ['Australia', [0.3, 0.03, -0.19, -0.16]],\n",
       " ['England', [0.0]],\n",
       " ['Tunisia', [0.06, -0.06]],\n",
       " ['Egypt', [0.0]],\n",
       " ['Germany', [0.02, 0.06, -0.07]],\n",
       " ['Greece', [-0.16, 0.05, 0.14, 0.38, -0.46, 0.05]]]"
      ]
     },
     "execution_count": 61,
     "metadata": {},
     "output_type": "execute_result"
    }
   ],
   "source": [
    "removed_mean_list=[[k,[round(z-(sum(v)/len(v)),2) for z in v]] for k,v in success_estimates.items()]\n",
    "removed_mean_list\n",
    "\n"
   ]
  },
  {
   "cell_type": "markdown",
   "metadata": {
    "colab_type": "text",
    "id": "7zeUXSg0KsjD"
   },
   "source": [
    "## Reflecting on the country-specific mean success estimate"
   ]
  },
  {
   "cell_type": "markdown",
   "metadata": {
    "colab_type": "text",
    "id": "wJTCvek_KsjE"
   },
   "source": [
    "Based on the above analysis, we see the mean country success estimates vary widely, from the lowest, Canada = 0.275, to the highest, Egypt = 0.99. However, notice that Egypt's mean is calculated from 1 success estimate. Are we confident in trusting a single estimate as a proxy for the average success estimate?\n",
    "\n",
    "Given that the global expansion project will utilize valuable company resources, we decide it is best to restrict our analysis to countries that have two or more success estimates. To accomplish this task, we will use a control structure in Python known as the <b>if...elif...else statement</b>. The general structure follows.\n",
    "\n",
    "```python\n",
    "if test_expression_1:\n",
    "    block1_statement(s)\n",
    "elif test_expression_2:\n",
    "    block2_statement2(s)\n",
    "else:\n",
    "    block3_statement(s)\n",
    "```\n",
    "\n",
    "Here, ```test_expression_1``` and ```test_expression_2``` must evaluate to ```True``` or ```False```, a Python <b>boolean</b> type. The boolean type is associated with variables that are either ```True``` or ```False```.\n",
    "\n",
    "If ```test_expression_1``` is True, ```block1_statement(s)``` will execute and the other block statements will not. If ```test_expression_1``` is False yet ```test_expression_2``` is True, then ```block2_statement2(s)``` will execute and the others will not. Finally, if ```test_expression_1``` and ```test_expression_2``` are both False, then the else section's ```block3_statement(s)``` will execute. This conditional structure of an if statement allows one to control the flow of Python code.\n",
    "\n",
    "Let's use this to filter out the countries that only have one success estimate."
   ]
  },
  {
   "cell_type": "markdown",
   "metadata": {
    "colab_type": "text",
    "id": "qN26gLg9KsjF"
   },
   "source": [
    "## Selecting only multi-observation countries for global expansion potential"
   ]
  },
  {
   "cell_type": "markdown",
   "metadata": {
    "colab_type": "text",
    "id": "VZJrLRSBKsjF"
   },
   "source": [
    "We will use the if statement above to remove countries with less than one success estimate. For convenience of viewing the result, we will store the mean estimates for each country in a new dictionary ```country_means```."
   ]
  },
  {
   "cell_type": "code",
   "execution_count": 116,
   "metadata": {
    "colab": {},
    "colab_type": "code",
    "id": "-f1wgOWYKsjH",
    "scrolled": true
   },
   "outputs": [
    {
     "data": {
      "text/plain": [
       "{'Australia': 0.29500000000000004,\n",
       " 'Brazil': 0.29,\n",
       " 'Canada': 0.275,\n",
       " 'France': 0.655,\n",
       " 'Germany': 0.4333333333333333,\n",
       " 'Greece': 0.61,\n",
       " 'Jamaica': 0.6566666666666666,\n",
       " 'Switzerland': 0.7859999999999999,\n",
       " 'Tunisia': 0.6200000000000001,\n",
       " 'USA': 0.3333333333333333}"
      ]
     },
     "execution_count": 116,
     "metadata": {},
     "output_type": "execute_result"
    }
   ],
   "source": [
    "# Get a list of all the country names\n",
    "country_name_list = list(success_estimates.keys())\n",
    "\n",
    "# Create an empty dictionary to hold country mean estimates\n",
    "country_means = {}\n",
    "\n",
    "# Loop through all countries and calculate their mean success estimate\n",
    "for i in country_name_list:\n",
    "    list_country_estimates = success_estimates[i] # list of estimates for a country\n",
    "    # if more than one country estimate, then record the mean estimate, otherwise go to next loop iteration\n",
    "    if len(success_estimates[i]) > 1:\n",
    "        country_mean_value = sum(list_country_estimates) / len(list_country_estimates)\n",
    "        country_means[i] =  country_mean_value # insert country mean value into dict using country name as key\n",
    "    \n",
    "country_means\n",
    "#Para paises con 1 elemento\n",
    "# else:\n",
    "#         country_mean_value=success_estimates[i]\n",
    "#         type(country_mean_value)\n",
    "#         country_means[i]=country_mean_value"
   ]
  },
  {
   "cell_type": "markdown",
   "metadata": {
    "colab_type": "text",
    "id": "ghCdQiU6KsjJ"
   },
   "source": [
    "Let's format our results, modifying the string output to the screen to use 2 decimals when printing the float type. This is accomplished using the string type's ```.format()``` functionality. The ```{0:s}``` and ```{1:.2f}``` in the string indicate to the ```.format()``` method to format the first variable it receives as input as a string and replace the ```{0:s}``` placeholder, and to format the second variable it receives as input as a 2-decimal float and replace the ```{1:.2f}``` placeholder.\n",
    "\n",
    "With this formatting, the ```country_key``` variable will be displayed as a string in place of ```{0:s}```, while the ```country_means[country_key]``` variable will be displayed as a 2-decimal float in place of ```{1:.2f}```.  This advanced string formatting approach is useful to improve the clarity of the results."
   ]
  },
  {
   "cell_type": "code",
   "execution_count": 118,
   "metadata": {
    "colab": {},
    "colab_type": "code",
    "collapsed": true,
    "id": "33PUsN2fKsjL",
    "outputId": "1bd06a4c-dead-4ba2-f756-beaea003a7cc"
   },
   "outputs": [
    {
     "name": "stdout",
     "output_type": "stream",
     "text": [
      "Country: Brazil, Avg Success Estimate: 0.29\n",
      "Country: Canada, Avg Success Estimate: 0.28\n",
      "Country: Australia, Avg Success Estimate: 0.30\n",
      "Country: USA, Avg Success Estimate: 0.33\n",
      "Country: Jamaica, Avg Success Estimate: 0.66\n",
      "Country: Tunisia, Avg Success Estimate: 0.62\n",
      "Country: France, Avg Success Estimate: 0.66\n",
      "Country: Germany, Avg Success Estimate: 0.43\n",
      "Country: Greece, Avg Success Estimate: 0.61\n",
      "Country: Switzerland, Avg Success Estimate: 0.79\n"
     ]
    }
   ],
   "source": [
    "# Nicely format the result for printing to the screen\n",
    "for country_key in country_means: \n",
    "    print(\"Country: {0:s}, Avg Success Estimate: {1:.2f}\".format(country_key, country_means[country_key]))"
   ]
  },
  {
   "cell_type": "markdown",
   "metadata": {
    "colab_type": "text",
    "id": "6kbZuUkxKsjO"
   },
   "source": [
    "Observing the resulting country means, we notice the country with the largest mean success estimate is Switzerland at 0.79, while the lowest mean success estimate is Canada at 0.28."
   ]
  },
  {
   "cell_type": "markdown",
   "metadata": {
    "colab_type": "text",
    "id": "e-TJ9wk9KsjP"
   },
   "source": [
    "### Exercise 8:\n",
    "\n",
    "After reviewing company policy on statistical procedures, you notice the company recommends that all estimates (averages, minimums, maximums) must have at least three values contributing to the summary statistic. Write a for loop and use the ```if``` statement structure to select and print the average success estimates for the countries satisfying this policy. If the country does not satisfy the policy, print the country name and ``\"*Does not meet company policy*\"``. Each country should appear on a new line."
   ]
  },
  {
   "cell_type": "code",
   "execution_count": 147,
   "metadata": {},
   "outputs": [
    {
     "name": "stdout",
     "output_type": "stream",
     "text": [
      "El pais Canada no cumple con las politicas de la empresa\n",
      "El pais Italy no cumple con las politicas de la empresa\n",
      "El pais Morocco no cumple con las politicas de la empresa\n",
      "El pais Argentina no cumple con las politicas de la empresa\n",
      "El pais England no cumple con las politicas de la empresa\n",
      "El pais Tunisia no cumple con las politicas de la empresa\n",
      "El pais Egypt no cumple con las politicas de la empresa\n",
      "-----------------------------------------------------------------------------\n",
      "Para el pais Brazil las estadisticas son: Promedio 0.29 ,Minimo 0.22 ,Maximo 0.43\n",
      "----------------------------------------------------------------------------------\n",
      "Para el pais Jamaica las estadisticas son: Promedio 0.66 ,Minimo 0.61 ,Maximo 0.71\n",
      "----------------------------------------------------------------------------------\n",
      "Para el pais Australia las estadisticas son: Promedio 0.3 ,Minimo 0.11 ,Maximo 0.6\n",
      "----------------------------------------------------------------------------------\n",
      "Para el pais USA las estadisticas son: Promedio 0.33 ,Minimo 0.2 ,Maximo 0.5\n",
      "----------------------------------------------------------------------------------\n",
      "Para el pais France las estadisticas son: Promedio 0.66 ,Minimo 0.2 ,Maximo 0.98\n",
      "----------------------------------------------------------------------------------\n",
      "Para el pais Germany las estadisticas son: Promedio 0.43 ,Minimo 0.36 ,Maximo 0.49\n",
      "----------------------------------------------------------------------------------\n",
      "Para el pais Greece las estadisticas son: Promedio 0.61 ,Minimo 0.15 ,Maximo 0.99\n",
      "----------------------------------------------------------------------------------\n",
      "Para el pais Switzerland las estadisticas son: Promedio 0.79 ,Minimo 0.51 ,Maximo 0.99\n",
      "----------------------------------------------------------------------------------\n"
     ]
    }
   ],
   "source": [
    "country_names = success_estimates.keys()\n",
    "avr_country={}\n",
    "for i in country_names:\n",
    "    country_success_list=success_estimates[i]\n",
    "    if len(country_success_list)>2:\n",
    "        prom=sum(country_success_list)/len(country_success_list)\n",
    "        mini=min(country_success_list)\n",
    "        maxi=max(country_success_list)\n",
    "        avr_country[i]=[prom,mini,maxi]\n",
    "    else:\n",
    "        print('El pais '+ i+' no cumple con las politicas de la empresa')\n",
    "print('-----------------------------------------------------------------------------')\n",
    "for k,v in avr_country.items():\n",
    "    print('Para el pais '+ k+' las estadisticas son: Promedio '+str(round(v[0],2))+' ,Minimo '+str(v[1])+' ,Maximo '+str(v[2]))\n",
    "    print('----------------------------------------------------------------------------------')\n",
    "    "
   ]
  },
  {
   "cell_type": "markdown",
   "metadata": {
    "colab_type": "text",
    "id": "-WgPuZAtKsjR"
   },
   "source": [
    "### Exercise 9:\n",
    "\n",
    "What is another approach to ameliorate the one-sample problem for some countries? Think in terms of the factors that drive confidence in data-driven business decisions.\n",
    "\n",
    "(a) Group countries together to larger regions to ensure each region has at least one estimate\n",
    "\n",
    "(b) Only remove a country if its esimates are very large or very small compared to other estimates\n",
    "\n",
    "(c) Use a different summary statistic for the analysis other than the average value\n",
    "\n",
    "(d) Revisit why some countries only have one estimate and see if more data can be sourced for these countries"
   ]
  },
  {
   "cell_type": "markdown",
   "metadata": {
    "colab_type": "text",
    "id": "sidgdf-eKsjS"
   },
   "source": [
    "## Putting it all together"
   ]
  },
  {
   "cell_type": "markdown",
   "metadata": {
    "colab_type": "text",
    "id": "2ORrmYIBKsjT"
   },
   "source": [
    "We've used for loops and control structures to calculate partial summary statistics for each of the countries. Let's put it all together to obtain a recommendation on which country we should choose to expand the luxury flight services."
   ]
  },
  {
   "cell_type": "markdown",
   "metadata": {
    "colab_type": "text",
    "id": "ciyZ_KwVKsjV"
   },
   "source": [
    "### Exercise 10:\n",
    "\n",
    "Write code to print each country name and summary statistics. Each line should show one country and the corresponding summary statistics: Min Estimate (float), Average Estimate (float), Max Estimate (float), Number of Estimates (int), Meets Company Policy of at least 3 estimates (bool). For example, the line for France would appear as:\n",
    "```\n",
    "Country: France , Min: 0.2 , Average: 0.655 , Max: 0.98 , NumEst: 4 , MeetsPolicy: True\n",
    "```"
   ]
  },
  {
   "cell_type": "markdown",
   "metadata": {
    "colab_type": "text",
    "id": "KriXkGVBKsjV"
   },
   "source": [
    "Now that we have summary statistics for a variety of country estimates, let's construct our actionable business recommendation."
   ]
  },
  {
   "cell_type": "markdown",
   "metadata": {
    "colab_type": "text",
    "id": "NrjH9xttKsjW"
   },
   "source": [
    "## Conclusions"
   ]
  },
  {
   "cell_type": "markdown",
   "metadata": {
    "colab_type": "text",
    "id": "iCneT99gKsjX"
   },
   "source": [
    "From the analysis, Switzerland is the country with the largest chance of success for global expansion with an estimated success rate of 0.79.  The summary statistic for Switzerland was calculated with an adequate number of estimates according to company policy. Thus, it is recommended that management explore opportunities in Switzerland for luxury flight services.\n",
    "\n",
    "In addition, other countries that should be closely monitored for luxury flight services are Jamaica and France, where each held a 0.66 average success estimate. If there are additional resources in the future for further luxury service expansion, these countries may be apt choices."
   ]
  },
  {
   "cell_type": "markdown",
   "metadata": {
    "colab_type": "text",
    "id": "KyTiVYaeKsjY"
   },
   "source": [
    "## Takeaways"
   ]
  },
  {
   "cell_type": "markdown",
   "metadata": {
    "colab_type": "text",
    "id": "qTiT91TkKsjb"
   },
   "source": [
    "In this case, we've learned the foundations of Python. Through identifying global expansion opportunities for an airline company we've covered fundamental data types, control structures, and a useful Python workflow to analyze a given set of data. You also learned about various summary statistics and how much confidence you can have in drawing conclusions from them.\n",
    "\n",
    "Building on this knowledge, you can use these Python tools as both a foundation and a framework to build more complex projects and solve critical business problems. Python continues to be an outstanding tool to perform data-driven analysis and deliver key business insights."
   ]
  },
  {
   "cell_type": "code",
   "execution_count": null,
   "metadata": {
    "colab": {},
    "colab_type": "code",
    "id": "YzsSISFiKsjc"
   },
   "outputs": [],
   "source": []
  }
 ],
 "metadata": {
  "colab": {
   "name": "intro.ipynb",
   "provenance": []
  },
  "kernelspec": {
   "display_name": "Python 2",
   "language": "python",
   "name": "python2"
  },
  "language_info": {
   "codemirror_mode": {
    "name": "ipython",
    "version": 2
   },
   "file_extension": ".py",
   "mimetype": "text/x-python",
   "name": "python",
   "nbconvert_exporter": "python",
   "pygments_lexer": "ipython2",
   "version": "2.7.16"
  }
 },
 "nbformat": 4,
 "nbformat_minor": 2
}
